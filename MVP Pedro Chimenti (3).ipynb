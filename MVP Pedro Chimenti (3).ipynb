{
 "cells": [
  {
   "cell_type": "markdown",
   "metadata": {
    "application/vnd.databricks.v1+cell": {
     "cellMetadata": {},
     "inputWidgets": {},
     "nuid": "3118d695-37fe-486c-8e07-591fc0998c75",
     "showTitle": false,
     "tableResultSettingsMap": {},
     "title": ""
    }
   },
   "source": [
    "Objetivo:\n",
    "O objetivo desta pesquisa é realizar uma análise detalhada e abrangente sobre o mercado de veículos elétricos (VEs) nos Estados Unidos, utilizando uma planilha como ferramenta para organizar, categorizar e interpretar dados relevantes sobre o volume de hibridos e eletricos, característica e preferências dos consumidores. A pesquisa visa fornecer insights claros sobre a evolução do mercado de VEs, identificar tendências e padrões, e fornecer um panorama das principais marcas, modelos, infraestrutura de carregamento. O objetivo final é oferecer um recurso útil para investidores, fabricantes, políticas públicas e consumidores interessados na adoção e expansão de veículos elétricos no território norte-americano.\n",
    "\n",
    "Responder as seguintes perguntas:\n",
    "Identificar e listar os principais modelos de veículos elétricos no mercado dos Estados Unidos.\n",
    "Organizar dados sobre especificações técnicas como autonomia\n",
    "Analizar o crescimento dos hibidos e elétricos\n",
    "\n",
    "Coleta:\n",
    "Importaremos do site Kaggle uma planilha com algumas caracteristicas como modelo, ano, marca, tipo de veiculo(híbrido ou elétrico), autonomia e entre outros.\n",
    "\n",
    "Modelagem:\n",
    "Modelo escolhido foi o modelo estrela, a tabela fato que é a Eletricvehicle e as tabelas dimensão que são Eletricmedia, eletricvehicle, quantidadexano, quantidadexestado, quantidadexmontadora,tipoxmontadora o arquivo em imagem esta anexado no site Git no main. A tabela fato foi escolhida a Eletric Vehicle, pois ela foi a base para criação das outras tabelas.\n",
    "\n",
    "Catalogo de dados:\n",
    "O catalogo de dados foi importado em um arquivo que esta anexado no site Git no main.\n"
   ]
  },
  {
   "cell_type": "code",
   "execution_count": 0,
   "metadata": {
    "application/vnd.databricks.v1+cell": {
     "cellMetadata": {
      "byteLimit": 2048000,
      "implicitDf": true,
      "rowLimit": 10000
     },
     "inputWidgets": {},
     "nuid": "c9cee28d-6e36-4789-8144-7203f14b5f6a",
     "showTitle": true,
     "tableResultSettingsMap": {},
     "title": "Criando camada bronze"
    }
   },
   "outputs": [
    {
     "output_type": "display_data",
     "data": {
      "text/html": [
       "<style scoped>\n",
       "  .table-result-container {\n",
       "    max-height: 300px;\n",
       "    overflow: auto;\n",
       "  }\n",
       "  table, th, td {\n",
       "    border: 1px solid black;\n",
       "    border-collapse: collapse;\n",
       "  }\n",
       "  th, td {\n",
       "    padding: 5px;\n",
       "  }\n",
       "  th {\n",
       "    text-align: left;\n",
       "  }\n",
       "</style><div class='table-result-container'><table class='table-result'><thead style='background-color: white'><tr></tr></thead><tbody></tbody></table></div>"
      ]
     },
     "metadata": {
      "application/vnd.databricks.v1+output": {
       "addedWidgets": {},
       "aggData": [],
       "aggError": "",
       "aggOverflow": false,
       "aggSchema": [],
       "aggSeriesLimitReached": false,
       "aggType": "",
       "arguments": {},
       "columnCustomDisplayInfos": {},
       "data": [],
       "datasetInfos": [],
       "dbfsResultPath": null,
       "isJsonSchema": true,
       "metadata": {},
       "overflow": false,
       "plotOptions": {
        "customPlotOptions": {},
        "displayType": "table",
        "pivotAggregation": null,
        "pivotColumns": null,
        "xColumns": null,
        "yColumns": null
       },
       "removedWidgets": [],
       "schema": [],
       "type": "table"
      }
     },
     "output_type": "display_data"
    }
   ],
   "source": [
    "%sql\n",
    "create database bronze"
   ]
  },
  {
   "cell_type": "markdown",
   "metadata": {
    "application/vnd.databricks.v1+cell": {
     "cellMetadata": {},
     "inputWidgets": {},
     "nuid": "66388f54-21e1-48af-a597-eee6648284a8",
     "showTitle": false,
     "tableResultSettingsMap": {},
     "title": ""
    }
   },
   "source": [
    "Importei diretamento para a camada bronze do meu computador uma planilha de veiculos eletricos nos estados unidos."
   ]
  },
  {
   "cell_type": "code",
   "execution_count": 0,
   "metadata": {
    "application/vnd.databricks.v1+cell": {
     "cellMetadata": {
      "byteLimit": 2048000,
      "implicitDf": true,
      "rowLimit": 10000
     },
     "inputWidgets": {},
     "nuid": "6ed6776c-6418-41f2-b581-965b2fb18e65",
     "showTitle": true,
     "tableResultSettingsMap": {},
     "title": "Exemplo da tabela na camada bronze"
    }
   },
   "outputs": [
    {
     "output_type": "display_data",
     "data": {
      "text/html": [
       "<style scoped>\n",
       "  .table-result-container {\n",
       "    max-height: 300px;\n",
       "    overflow: auto;\n",
       "  }\n",
       "  table, th, td {\n",
       "    border: 1px solid black;\n",
       "    border-collapse: collapse;\n",
       "  }\n",
       "  th, td {\n",
       "    padding: 5px;\n",
       "  }\n",
       "  th {\n",
       "    text-align: left;\n",
       "  }\n",
       "</style><div class='table-result-container'><table class='table-result'><thead style='background-color: white'><tr><th>VIN </th><th>County</th><th>City</th><th>State</th><th>Postal Code</th><th>Model Year</th><th>Make</th><th>Model</th><th>Electric Vehicle Type</th><th>Clean Alternative Fuel Vehicle Eligibility</th><th>Electric Range</th><th>Base MSRP</th><th>Legislative District</th><th>DOL Vehicle ID</th><th>Vehicle Location</th><th>Electric Utility</th><th>2020 Census Tract</th></tr></thead><tbody><tr><td>KM8K33AGXL</td><td>King</td><td>Seattle</td><td>WA</td><td>98103</td><td>2020</td><td>HYUNDAI</td><td>KONA</td><td>Battery Electric Vehicle (BEV)</td><td>Clean Alternative Fuel Vehicle Eligible</td><td>258</td><td>0</td><td>43</td><td>249675142</td><td>POINT (-122.34301 47.659185)</td><td>CITY OF SEATTLE - (WA)|CITY OF TACOMA - (WA)</td><td>53033004800</td></tr><tr><td>1C4RJYB61N</td><td>King</td><td>Bothell</td><td>WA</td><td>98011</td><td>2022</td><td>JEEP</td><td>GRAND CHEROKEE</td><td>Plug-in Hybrid Electric Vehicle (PHEV)</td><td>Not eligible due to low battery range</td><td>25</td><td>0</td><td>1</td><td>233928502</td><td>POINT (-122.20578 47.762405)</td><td>PUGET SOUND ENERGY INC||CITY OF TACOMA - (WA)</td><td>53033021804</td></tr><tr><td>1C4RJYD61P</td><td>Yakima</td><td>Yakima</td><td>WA</td><td>98908</td><td>2023</td><td>JEEP</td><td>GRAND CHEROKEE</td><td>Plug-in Hybrid Electric Vehicle (PHEV)</td><td>Not eligible due to low battery range</td><td>25</td><td>0</td><td>14</td><td>229675939</td><td>POINT (-120.6027202 46.5965625)</td><td>PACIFICORP</td><td>53077002900</td></tr><tr><td>5YJ3E1EA7J</td><td>King</td><td>Kirkland</td><td>WA</td><td>98034</td><td>2018</td><td>TESLA</td><td>MODEL 3</td><td>Battery Electric Vehicle (BEV)</td><td>Clean Alternative Fuel Vehicle Eligible</td><td>215</td><td>0</td><td>45</td><td>104714466</td><td>POINT (-122.209285 47.71124)</td><td>PUGET SOUND ENERGY INC||CITY OF TACOMA - (WA)</td><td>53033021903</td></tr><tr><td>WBY7Z8C5XJ</td><td>Thurston</td><td>Olympia</td><td>WA</td><td>98501</td><td>2018</td><td>BMW</td><td>I3</td><td>Plug-in Hybrid Electric Vehicle (PHEV)</td><td>Clean Alternative Fuel Vehicle Eligible</td><td>97</td><td>0</td><td>22</td><td>185498386</td><td>POINT (-122.89692 47.043535)</td><td>PUGET SOUND ENERGY INC</td><td>53067010700</td></tr><tr><td>5YJ3E1EAXL</td><td>Snohomish</td><td>Marysville</td><td>WA</td><td>98271</td><td>2020</td><td>TESLA</td><td>MODEL 3</td><td>Battery Electric Vehicle (BEV)</td><td>Clean Alternative Fuel Vehicle Eligible</td><td>266</td><td>0</td><td>38</td><td>124595523</td><td>POINT (-122.1713847 48.10433)</td><td>PUGET SOUND ENERGY INC</td><td>53061940001</td></tr><tr><td>2C4RC1N77H</td><td>King</td><td>Kent</td><td>WA</td><td>98042</td><td>2017</td><td>CHRYSLER</td><td>PACIFICA</td><td>Plug-in Hybrid Electric Vehicle (PHEV)</td><td>Clean Alternative Fuel Vehicle Eligible</td><td>33</td><td>0</td><td>47</td><td>1815593</td><td>POINT (-122.111625 47.36078)</td><td>PUGET SOUND ENERGY INC||CITY OF TACOMA - (WA)</td><td>53033031707</td></tr><tr><td>5YJYGDEE3L</td><td>King</td><td>Woodinville</td><td>WA</td><td>98072</td><td>2020</td><td>TESLA</td><td>MODEL Y</td><td>Battery Electric Vehicle (BEV)</td><td>Clean Alternative Fuel Vehicle Eligible</td><td>291</td><td>0</td><td>45</td><td>124760555</td><td>POINT (-122.151665 47.75855)</td><td>PUGET SOUND ENERGY INC||CITY OF TACOMA - (WA)</td><td>53033021906</td></tr><tr><td>5YJ3E1EA1J</td><td>Island</td><td>Coupeville</td><td>WA</td><td>98239</td><td>2018</td><td>TESLA</td><td>MODEL 3</td><td>Battery Electric Vehicle (BEV)</td><td>Clean Alternative Fuel Vehicle Eligible</td><td>215</td><td>0</td><td>10</td><td>125048003</td><td>POINT (-122.6880708 48.2179983)</td><td>PUGET SOUND ENERGY INC</td><td>53029971000</td></tr><tr><td>7SAYGDEF0P</td><td>King</td><td>Bellevue</td><td>WA</td><td>98004</td><td>2023</td><td>TESLA</td><td>MODEL Y</td><td>Battery Electric Vehicle (BEV)</td><td>Eligibility unknown as battery range has not been researched</td><td>0</td><td>0</td><td>48</td><td>240416207</td><td>POINT (-122.201905 47.61385)</td><td>PUGET SOUND ENERGY INC||CITY OF TACOMA - (WA)</td><td>53033023806</td></tr></tbody></table></div>"
      ]
     },
     "metadata": {
      "application/vnd.databricks.v1+output": {
       "addedWidgets": {},
       "aggData": [],
       "aggError": "",
       "aggOverflow": false,
       "aggSchema": [],
       "aggSeriesLimitReached": false,
       "aggType": "",
       "arguments": {},
       "columnCustomDisplayInfos": {},
       "data": [
        [
         "KM8K33AGXL",
         "King",
         "Seattle",
         "WA",
         98103,
         2020,
         "HYUNDAI",
         "KONA",
         "Battery Electric Vehicle (BEV)",
         "Clean Alternative Fuel Vehicle Eligible",
         258,
         "0",
         "43",
         249675142,
         "POINT (-122.34301 47.659185)",
         "CITY OF SEATTLE - (WA)|CITY OF TACOMA - (WA)",
         "53033004800"
        ],
        [
         "1C4RJYB61N",
         "King",
         "Bothell",
         "WA",
         98011,
         2022,
         "JEEP",
         "GRAND CHEROKEE",
         "Plug-in Hybrid Electric Vehicle (PHEV)",
         "Not eligible due to low battery range",
         25,
         "0",
         "1",
         233928502,
         "POINT (-122.20578 47.762405)",
         "PUGET SOUND ENERGY INC||CITY OF TACOMA - (WA)",
         "53033021804"
        ],
        [
         "1C4RJYD61P",
         "Yakima",
         "Yakima",
         "WA",
         98908,
         2023,
         "JEEP",
         "GRAND CHEROKEE",
         "Plug-in Hybrid Electric Vehicle (PHEV)",
         "Not eligible due to low battery range",
         25,
         "0",
         "14",
         229675939,
         "POINT (-120.6027202 46.5965625)",
         "PACIFICORP",
         "53077002900"
        ],
        [
         "5YJ3E1EA7J",
         "King",
         "Kirkland",
         "WA",
         98034,
         2018,
         "TESLA",
         "MODEL 3",
         "Battery Electric Vehicle (BEV)",
         "Clean Alternative Fuel Vehicle Eligible",
         215,
         "0",
         "45",
         104714466,
         "POINT (-122.209285 47.71124)",
         "PUGET SOUND ENERGY INC||CITY OF TACOMA - (WA)",
         "53033021903"
        ],
        [
         "WBY7Z8C5XJ",
         "Thurston",
         "Olympia",
         "WA",
         98501,
         2018,
         "BMW",
         "I3",
         "Plug-in Hybrid Electric Vehicle (PHEV)",
         "Clean Alternative Fuel Vehicle Eligible",
         97,
         "0",
         "22",
         185498386,
         "POINT (-122.89692 47.043535)",
         "PUGET SOUND ENERGY INC",
         "53067010700"
        ],
        [
         "5YJ3E1EAXL",
         "Snohomish",
         "Marysville",
         "WA",
         98271,
         2020,
         "TESLA",
         "MODEL 3",
         "Battery Electric Vehicle (BEV)",
         "Clean Alternative Fuel Vehicle Eligible",
         266,
         "0",
         "38",
         124595523,
         "POINT (-122.1713847 48.10433)",
         "PUGET SOUND ENERGY INC",
         "53061940001"
        ],
        [
         "2C4RC1N77H",
         "King",
         "Kent",
         "WA",
         98042,
         2017,
         "CHRYSLER",
         "PACIFICA",
         "Plug-in Hybrid Electric Vehicle (PHEV)",
         "Clean Alternative Fuel Vehicle Eligible",
         33,
         "0",
         "47",
         1815593,
         "POINT (-122.111625 47.36078)",
         "PUGET SOUND ENERGY INC||CITY OF TACOMA - (WA)",
         "53033031707"
        ],
        [
         "5YJYGDEE3L",
         "King",
         "Woodinville",
         "WA",
         98072,
         2020,
         "TESLA",
         "MODEL Y",
         "Battery Electric Vehicle (BEV)",
         "Clean Alternative Fuel Vehicle Eligible",
         291,
         "0",
         "45",
         124760555,
         "POINT (-122.151665 47.75855)",
         "PUGET SOUND ENERGY INC||CITY OF TACOMA - (WA)",
         "53033021906"
        ],
        [
         "5YJ3E1EA1J",
         "Island",
         "Coupeville",
         "WA",
         98239,
         2018,
         "TESLA",
         "MODEL 3",
         "Battery Electric Vehicle (BEV)",
         "Clean Alternative Fuel Vehicle Eligible",
         215,
         "0",
         "10",
         125048003,
         "POINT (-122.6880708 48.2179983)",
         "PUGET SOUND ENERGY INC",
         "53029971000"
        ],
        [
         "7SAYGDEF0P",
         "King",
         "Bellevue",
         "WA",
         98004,
         2023,
         "TESLA",
         "MODEL Y",
         "Battery Electric Vehicle (BEV)",
         "Eligibility unknown as battery range has not been researched",
         0,
         "0",
         "48",
         240416207,
         "POINT (-122.201905 47.61385)",
         "PUGET SOUND ENERGY INC||CITY OF TACOMA - (WA)",
         "53033023806"
        ]
       ],
       "datasetInfos": [],
       "dbfsResultPath": null,
       "isJsonSchema": true,
       "metadata": {},
       "overflow": false,
       "plotOptions": {
        "customPlotOptions": {},
        "displayType": "table",
        "pivotAggregation": null,
        "pivotColumns": null,
        "xColumns": null,
        "yColumns": null
       },
       "removedWidgets": [],
       "schema": [
        {
         "metadata": "{}",
         "name": "VIN ",
         "type": "\"string\""
        },
        {
         "metadata": "{}",
         "name": "County",
         "type": "\"string\""
        },
        {
         "metadata": "{}",
         "name": "City",
         "type": "\"string\""
        },
        {
         "metadata": "{}",
         "name": "State",
         "type": "\"string\""
        },
        {
         "metadata": "{}",
         "name": "Postal Code",
         "type": "\"integer\""
        },
        {
         "metadata": "{}",
         "name": "Model Year",
         "type": "\"integer\""
        },
        {
         "metadata": "{}",
         "name": "Make",
         "type": "\"string\""
        },
        {
         "metadata": "{}",
         "name": "Model",
         "type": "\"string\""
        },
        {
         "metadata": "{}",
         "name": "Electric Vehicle Type",
         "type": "\"string\""
        },
        {
         "metadata": "{}",
         "name": "Clean Alternative Fuel Vehicle Eligibility",
         "type": "\"string\""
        },
        {
         "metadata": "{}",
         "name": "Electric Range",
         "type": "\"integer\""
        },
        {
         "metadata": "{}",
         "name": "Base MSRP",
         "type": "\"string\""
        },
        {
         "metadata": "{}",
         "name": "Legislative District",
         "type": "\"string\""
        },
        {
         "metadata": "{}",
         "name": "DOL Vehicle ID",
         "type": "\"integer\""
        },
        {
         "metadata": "{}",
         "name": "Vehicle Location",
         "type": "\"string\""
        },
        {
         "metadata": "{}",
         "name": "Electric Utility",
         "type": "\"string\""
        },
        {
         "metadata": "{}",
         "name": "2020 Census Tract",
         "type": "\"string\""
        }
       ],
       "type": "table"
      }
     },
     "output_type": "display_data"
    }
   ],
   "source": [
    "%sql \n",
    "SELECT * FROM bronze.electric_vehicle_population_data_8_csv LIMIT 10"
   ]
  },
  {
   "cell_type": "code",
   "execution_count": 0,
   "metadata": {
    "application/vnd.databricks.v1+cell": {
     "cellMetadata": {
      "byteLimit": 2048000,
      "implicitDf": true,
      "rowLimit": 10000
     },
     "inputWidgets": {},
     "nuid": "562838f6-2739-4cbf-9c49-acd8ad8f891e",
     "showTitle": true,
     "tableResultSettingsMap": {},
     "title": "Criação da camada silver"
    }
   },
   "outputs": [
    {
     "output_type": "display_data",
     "data": {
      "text/html": [
       "<style scoped>\n",
       "  .table-result-container {\n",
       "    max-height: 300px;\n",
       "    overflow: auto;\n",
       "  }\n",
       "  table, th, td {\n",
       "    border: 1px solid black;\n",
       "    border-collapse: collapse;\n",
       "  }\n",
       "  th, td {\n",
       "    padding: 5px;\n",
       "  }\n",
       "  th {\n",
       "    text-align: left;\n",
       "  }\n",
       "</style><div class='table-result-container'><table class='table-result'><thead style='background-color: white'><tr></tr></thead><tbody></tbody></table></div>"
      ]
     },
     "metadata": {
      "application/vnd.databricks.v1+output": {
       "addedWidgets": {},
       "aggData": [],
       "aggError": "",
       "aggOverflow": false,
       "aggSchema": [],
       "aggSeriesLimitReached": false,
       "aggType": "",
       "arguments": {},
       "columnCustomDisplayInfos": {},
       "data": [],
       "datasetInfos": [],
       "dbfsResultPath": null,
       "isJsonSchema": true,
       "metadata": {},
       "overflow": false,
       "plotOptions": {
        "customPlotOptions": {},
        "displayType": "table",
        "pivotAggregation": null,
        "pivotColumns": null,
        "xColumns": null,
        "yColumns": null
       },
       "removedWidgets": [],
       "schema": [],
       "type": "table"
      }
     },
     "output_type": "display_data"
    }
   ],
   "source": [
    "%sql CREATE DATABASE silver"
   ]
  },
  {
   "cell_type": "code",
   "execution_count": 0,
   "metadata": {
    "application/vnd.databricks.v1+cell": {
     "cellMetadata": {
      "byteLimit": 2048000,
      "implicitDf": true,
      "rowLimit": 10000
     },
     "inputWidgets": {},
     "nuid": "7692bbc3-4b95-499d-978e-2604a8735ffe",
     "showTitle": true,
     "tableResultSettingsMap": {},
     "title": "Ingestao e tratamento da tabela na camada silver"
    }
   },
   "outputs": [
    {
     "output_type": "display_data",
     "data": {
      "text/html": [
       "<style scoped>\n",
       "  .table-result-container {\n",
       "    max-height: 300px;\n",
       "    overflow: auto;\n",
       "  }\n",
       "  table, th, td {\n",
       "    border: 1px solid black;\n",
       "    border-collapse: collapse;\n",
       "  }\n",
       "  th, td {\n",
       "    padding: 5px;\n",
       "  }\n",
       "  th {\n",
       "    text-align: left;\n",
       "  }\n",
       "</style><div class='table-result-container'><table class='table-result'><thead style='background-color: white'><tr></tr></thead><tbody></tbody></table></div>"
      ]
     },
     "metadata": {
      "application/vnd.databricks.v1+output": {
       "addedWidgets": {},
       "aggData": [],
       "aggError": "",
       "aggOverflow": false,
       "aggSchema": [],
       "aggSeriesLimitReached": false,
       "aggType": "",
       "arguments": {},
       "columnCustomDisplayInfos": {},
       "data": [],
       "datasetInfos": [],
       "dbfsResultPath": null,
       "isJsonSchema": true,
       "metadata": {},
       "overflow": false,
       "plotOptions": {
        "customPlotOptions": {},
        "displayType": "table",
        "pivotAggregation": null,
        "pivotColumns": null,
        "xColumns": null,
        "yColumns": null
       },
       "removedWidgets": [],
       "schema": [],
       "type": "table"
      }
     },
     "output_type": "display_data"
    }
   ],
   "source": [
    "%sql \n",
    "    create table silver.Eletricvehicle stored as ORC as \n",
    "        (select County, City, State, `Model Year`,Make, Model, `Electric Vehicle Type`, `Electric Range`, `DOL Vehicle ID`  \n",
    "         from bronze.electric_vehicle_population_data_8_csv\n",
    "         Where County is not NULL and City is not NULL);\n",
    "\n"
   ]
  },
  {
   "cell_type": "markdown",
   "metadata": {
    "application/vnd.databricks.v1+cell": {
     "cellMetadata": {},
     "inputWidgets": {},
     "nuid": "a8b27d67-f0f9-43bd-8d2a-8fa38c48fb72",
     "showTitle": false,
     "tableResultSettingsMap": {},
     "title": ""
    }
   },
   "source": [
    "Fiz a transferencia da tabela para a camada Silver e fiz uma limpeza nas colunas Conty, City e Eletric Range"
   ]
  },
  {
   "cell_type": "code",
   "execution_count": 0,
   "metadata": {
    "application/vnd.databricks.v1+cell": {
     "cellMetadata": {
      "byteLimit": 2048000,
      "implicitDf": true,
      "rowLimit": 10000
     },
     "inputWidgets": {},
     "nuid": "e6e1182c-9916-47fe-bb08-bf85b5d14830",
     "showTitle": false,
     "tableResultSettingsMap": {},
     "title": ""
    }
   },
   "outputs": [
    {
     "output_type": "display_data",
     "data": {
      "text/html": [
       "<style scoped>\n",
       "  .table-result-container {\n",
       "    max-height: 300px;\n",
       "    overflow: auto;\n",
       "  }\n",
       "  table, th, td {\n",
       "    border: 1px solid black;\n",
       "    border-collapse: collapse;\n",
       "  }\n",
       "  th, td {\n",
       "    padding: 5px;\n",
       "  }\n",
       "  th {\n",
       "    text-align: left;\n",
       "  }\n",
       "</style><div class='table-result-container'><table class='table-result'><thead style='background-color: white'><tr><th>County</th><th>City</th><th>State</th><th>Model Year</th><th>Make</th><th>Model</th><th>Electric Vehicle Type</th><th>Electric Range</th><th>DOL Vehicle ID</th></tr></thead><tbody><tr><td>Pierce</td><td>Gig Harbor</td><td>WA</td><td>2016</td><td>TESLA</td><td>MODEL X</td><td>Battery Electric Vehicle (BEV)</td><td>200</td><td>106365703</td></tr><tr><td>Chelan</td><td>Chelan</td><td>WA</td><td>2017</td><td>TESLA</td><td>MODEL S</td><td>Battery Electric Vehicle (BEV)</td><td>210</td><td>176383504</td></tr><tr><td>King</td><td>Redmond</td><td>WA</td><td>2021</td><td>FORD</td><td>MUSTANG MACH-E</td><td>Battery Electric Vehicle (BEV)</td><td>0</td><td>186478029</td></tr><tr><td>Snohomish</td><td>Snohomish</td><td>WA</td><td>2015</td><td>NISSAN</td><td>LEAF</td><td>Battery Electric Vehicle (BEV)</td><td>84</td><td>189446995</td></tr><tr><td>Benton</td><td>Richland</td><td>WA</td><td>2019</td><td>HYUNDAI</td><td>IONIQ</td><td>Plug-in Hybrid Electric Vehicle (PHEV)</td><td>29</td><td>221198932</td></tr><tr><td>Snohomish</td><td>Mukilteo</td><td>WA</td><td>2022</td><td>TOYOTA</td><td>PRIUS PRIME</td><td>Plug-in Hybrid Electric Vehicle (PHEV)</td><td>25</td><td>224674299</td></tr><tr><td>Mason</td><td>Belfair</td><td>WA</td><td>2021</td><td>TESLA</td><td>MODEL Y</td><td>Battery Electric Vehicle (BEV)</td><td>0</td><td>176611816</td></tr><tr><td>Spokane</td><td>Greenacres</td><td>WA</td><td>2022</td><td>TESLA</td><td>MODEL 3</td><td>Battery Electric Vehicle (BEV)</td><td>0</td><td>209037321</td></tr><tr><td>King</td><td>Seattle</td><td>WA</td><td>2023</td><td>FORD</td><td>TRANSIT</td><td>Battery Electric Vehicle (BEV)</td><td>0</td><td>227116235</td></tr><tr><td>King</td><td>Auburn</td><td>WA</td><td>2022</td><td>TESLA</td><td>MODEL Y</td><td>Battery Electric Vehicle (BEV)</td><td>0</td><td>205524847</td></tr></tbody></table></div>"
      ]
     },
     "metadata": {
      "application/vnd.databricks.v1+output": {
       "addedWidgets": {},
       "aggData": [],
       "aggError": "",
       "aggOverflow": false,
       "aggSchema": [],
       "aggSeriesLimitReached": false,
       "aggType": "",
       "arguments": {},
       "columnCustomDisplayInfos": {},
       "data": [
        [
         "Pierce",
         "Gig Harbor",
         "WA",
         2016,
         "TESLA",
         "MODEL X",
         "Battery Electric Vehicle (BEV)",
         200,
         106365703
        ],
        [
         "Chelan",
         "Chelan",
         "WA",
         2017,
         "TESLA",
         "MODEL S",
         "Battery Electric Vehicle (BEV)",
         210,
         176383504
        ],
        [
         "King",
         "Redmond",
         "WA",
         2021,
         "FORD",
         "MUSTANG MACH-E",
         "Battery Electric Vehicle (BEV)",
         0,
         186478029
        ],
        [
         "Snohomish",
         "Snohomish",
         "WA",
         2015,
         "NISSAN",
         "LEAF",
         "Battery Electric Vehicle (BEV)",
         84,
         189446995
        ],
        [
         "Benton",
         "Richland",
         "WA",
         2019,
         "HYUNDAI",
         "IONIQ",
         "Plug-in Hybrid Electric Vehicle (PHEV)",
         29,
         221198932
        ],
        [
         "Snohomish",
         "Mukilteo",
         "WA",
         2022,
         "TOYOTA",
         "PRIUS PRIME",
         "Plug-in Hybrid Electric Vehicle (PHEV)",
         25,
         224674299
        ],
        [
         "Mason",
         "Belfair",
         "WA",
         2021,
         "TESLA",
         "MODEL Y",
         "Battery Electric Vehicle (BEV)",
         0,
         176611816
        ],
        [
         "Spokane",
         "Greenacres",
         "WA",
         2022,
         "TESLA",
         "MODEL 3",
         "Battery Electric Vehicle (BEV)",
         0,
         209037321
        ],
        [
         "King",
         "Seattle",
         "WA",
         2023,
         "FORD",
         "TRANSIT",
         "Battery Electric Vehicle (BEV)",
         0,
         227116235
        ],
        [
         "King",
         "Auburn",
         "WA",
         2022,
         "TESLA",
         "MODEL Y",
         "Battery Electric Vehicle (BEV)",
         0,
         205524847
        ]
       ],
       "datasetInfos": [],
       "dbfsResultPath": null,
       "isJsonSchema": true,
       "metadata": {},
       "overflow": false,
       "plotOptions": {
        "customPlotOptions": {},
        "displayType": "table",
        "pivotAggregation": null,
        "pivotColumns": null,
        "xColumns": null,
        "yColumns": null
       },
       "removedWidgets": [],
       "schema": [
        {
         "metadata": "{}",
         "name": "County",
         "type": "\"string\""
        },
        {
         "metadata": "{}",
         "name": "City",
         "type": "\"string\""
        },
        {
         "metadata": "{}",
         "name": "State",
         "type": "\"string\""
        },
        {
         "metadata": "{}",
         "name": "Model Year",
         "type": "\"integer\""
        },
        {
         "metadata": "{}",
         "name": "Make",
         "type": "\"string\""
        },
        {
         "metadata": "{}",
         "name": "Model",
         "type": "\"string\""
        },
        {
         "metadata": "{}",
         "name": "Electric Vehicle Type",
         "type": "\"string\""
        },
        {
         "metadata": "{}",
         "name": "Electric Range",
         "type": "\"integer\""
        },
        {
         "metadata": "{}",
         "name": "DOL Vehicle ID",
         "type": "\"integer\""
        }
       ],
       "type": "table"
      }
     },
     "output_type": "display_data"
    }
   ],
   "source": [
    "%sql \n",
    "SELECT * FROM silver.eletricvehicle LIMIT 10"
   ]
  },
  {
   "cell_type": "code",
   "execution_count": 0,
   "metadata": {
    "application/vnd.databricks.v1+cell": {
     "cellMetadata": {
      "byteLimit": 2048000,
      "implicitDf": true,
      "rowLimit": 10000
     },
     "inputWidgets": {},
     "nuid": "d5890e7f-4025-4a3c-aa4f-21a56b3b01df",
     "showTitle": false,
     "tableResultSettingsMap": {},
     "title": ""
    }
   },
   "outputs": [
    {
     "output_type": "display_data",
     "data": {
      "text/html": [
       "<style scoped>\n",
       "  .table-result-container {\n",
       "    max-height: 300px;\n",
       "    overflow: auto;\n",
       "  }\n",
       "  table, th, td {\n",
       "    border: 1px solid black;\n",
       "    border-collapse: collapse;\n",
       "  }\n",
       "  th, td {\n",
       "    padding: 5px;\n",
       "  }\n",
       "  th {\n",
       "    text-align: left;\n",
       "  }\n",
       "</style><div class='table-result-container'><table class='table-result'><thead style='background-color: white'><tr></tr></thead><tbody></tbody></table></div>"
      ]
     },
     "metadata": {
      "application/vnd.databricks.v1+output": {
       "addedWidgets": {},
       "aggData": [],
       "aggError": "",
       "aggOverflow": false,
       "aggSchema": [],
       "aggSeriesLimitReached": false,
       "aggType": "",
       "arguments": {},
       "columnCustomDisplayInfos": {},
       "data": [],
       "datasetInfos": [],
       "dbfsResultPath": null,
       "isJsonSchema": true,
       "metadata": {},
       "overflow": false,
       "plotOptions": {
        "customPlotOptions": {},
        "displayType": "table",
        "pivotAggregation": null,
        "pivotColumns": null,
        "xColumns": null,
        "yColumns": null
       },
       "removedWidgets": [],
       "schema": [],
       "type": "table"
      }
     },
     "output_type": "display_data"
    }
   ],
   "source": [
    "%sql CREATE DATABASE golden"
   ]
  },
  {
   "cell_type": "code",
   "execution_count": 0,
   "metadata": {
    "application/vnd.databricks.v1+cell": {
     "cellMetadata": {
      "byteLimit": 2048000,
      "implicitDf": true,
      "rowLimit": 10000
     },
     "inputWidgets": {},
     "nuid": "2de21cfc-8f3f-414e-9a3c-944e04657fc1",
     "showTitle": false,
     "tableResultSettingsMap": {},
     "title": ""
    }
   },
   "outputs": [
    {
     "output_type": "display_data",
     "data": {
      "text/html": [
       "<style scoped>\n",
       "  .table-result-container {\n",
       "    max-height: 300px;\n",
       "    overflow: auto;\n",
       "  }\n",
       "  table, th, td {\n",
       "    border: 1px solid black;\n",
       "    border-collapse: collapse;\n",
       "  }\n",
       "  th, td {\n",
       "    padding: 5px;\n",
       "  }\n",
       "  th {\n",
       "    text-align: left;\n",
       "  }\n",
       "</style><div class='table-result-container'><table class='table-result'><thead style='background-color: white'><tr></tr></thead><tbody></tbody></table></div>"
      ]
     },
     "metadata": {
      "application/vnd.databricks.v1+output": {
       "addedWidgets": {},
       "aggData": [],
       "aggError": "",
       "aggOverflow": false,
       "aggSchema": [],
       "aggSeriesLimitReached": false,
       "aggType": "",
       "arguments": {},
       "columnCustomDisplayInfos": {},
       "data": [],
       "datasetInfos": [],
       "dbfsResultPath": null,
       "isJsonSchema": true,
       "metadata": {},
       "overflow": false,
       "plotOptions": {
        "customPlotOptions": {},
        "displayType": "table",
        "pivotAggregation": null,
        "pivotColumns": null,
        "xColumns": null,
        "yColumns": null
       },
       "removedWidgets": [],
       "schema": [],
       "type": "table"
      }
     },
     "output_type": "display_data"
    }
   ],
   "source": [
    "%sql \n",
    "create table golden.eletricmedia stored as ORC as \n",
    "    select `Electric Vehicle Type`, AVG(`Electric Range`) as Mediadedistancia\n",
    "    from silver.eletricvehicle\n",
    "    group by `Electric Vehicle Type`"
   ]
  },
  {
   "cell_type": "code",
   "execution_count": 0,
   "metadata": {
    "application/vnd.databricks.v1+cell": {
     "cellMetadata": {
      "byteLimit": 2048000,
      "implicitDf": true,
      "rowLimit": 10000
     },
     "inputWidgets": {},
     "nuid": "9d876c9a-a0a3-4757-ba89-0135253549b1",
     "showTitle": false,
     "tableResultSettingsMap": {},
     "title": ""
    }
   },
   "outputs": [
    {
     "output_type": "display_data",
     "data": {
      "text/html": [
       "<style scoped>\n",
       "  .table-result-container {\n",
       "    max-height: 300px;\n",
       "    overflow: auto;\n",
       "  }\n",
       "  table, th, td {\n",
       "    border: 1px solid black;\n",
       "    border-collapse: collapse;\n",
       "  }\n",
       "  th, td {\n",
       "    padding: 5px;\n",
       "  }\n",
       "  th {\n",
       "    text-align: left;\n",
       "  }\n",
       "</style><div class='table-result-container'><table class='table-result'><thead style='background-color: white'><tr><th>Electric Vehicle Type</th><th>Mediadedistancia</th></tr></thead><tbody><tr><td>Plug-in Hybrid Electric Vehicle (PHEV)</td><td>30.65547141796585</td></tr><tr><td>Battery Electric Vehicle (BEV)</td><td>78.60651176329577</td></tr></tbody></table></div>"
      ]
     },
     "metadata": {
      "application/vnd.databricks.v1+output": {
       "addedWidgets": {},
       "aggData": [],
       "aggError": "",
       "aggOverflow": false,
       "aggSchema": [],
       "aggSeriesLimitReached": false,
       "aggType": "",
       "arguments": {},
       "columnCustomDisplayInfos": {},
       "data": [
        [
         "Plug-in Hybrid Electric Vehicle (PHEV)",
         30.65547141796585
        ],
        [
         "Battery Electric Vehicle (BEV)",
         78.60651176329577
        ]
       ],
       "datasetInfos": [],
       "dbfsResultPath": null,
       "isJsonSchema": true,
       "metadata": {},
       "overflow": false,
       "plotOptions": {
        "customPlotOptions": {},
        "displayType": "table",
        "pivotAggregation": null,
        "pivotColumns": null,
        "xColumns": null,
        "yColumns": null
       },
       "removedWidgets": [],
       "schema": [
        {
         "metadata": "{}",
         "name": "Electric Vehicle Type",
         "type": "\"string\""
        },
        {
         "metadata": "{}",
         "name": "Mediadedistancia",
         "type": "\"double\""
        }
       ],
       "type": "table"
      }
     },
     "output_type": "display_data"
    }
   ],
   "source": [
    "%sql \n",
    "SELECT * \n",
    "  FROM golden.eletricmedia LIMIT 10"
   ]
  },
  {
   "cell_type": "code",
   "execution_count": 0,
   "metadata": {
    "application/vnd.databricks.v1+cell": {
     "cellMetadata": {
      "byteLimit": 2048000,
      "implicitDf": true,
      "rowLimit": 10000
     },
     "inputWidgets": {},
     "nuid": "0d64c1dd-4ce4-421e-8e90-2c22406acd3f",
     "showTitle": true,
     "tableResultSettingsMap": {},
     "title": "Quantidade de hibrido e eletrico por estado"
    }
   },
   "outputs": [
    {
     "output_type": "display_data",
     "data": {
      "text/html": [
       "<style scoped>\n",
       "  .table-result-container {\n",
       "    max-height: 300px;\n",
       "    overflow: auto;\n",
       "  }\n",
       "  table, th, td {\n",
       "    border: 1px solid black;\n",
       "    border-collapse: collapse;\n",
       "  }\n",
       "  th, td {\n",
       "    padding: 5px;\n",
       "  }\n",
       "  th {\n",
       "    text-align: left;\n",
       "  }\n",
       "</style><div class='table-result-container'><table class='table-result'><thead style='background-color: white'><tr></tr></thead><tbody></tbody></table></div>"
      ]
     },
     "metadata": {
      "application/vnd.databricks.v1+output": {
       "addedWidgets": {},
       "aggData": [],
       "aggError": "",
       "aggOverflow": false,
       "aggSchema": [],
       "aggSeriesLimitReached": false,
       "aggType": "",
       "arguments": {},
       "columnCustomDisplayInfos": {},
       "data": [],
       "datasetInfos": [],
       "dbfsResultPath": null,
       "isJsonSchema": true,
       "metadata": {},
       "overflow": false,
       "plotOptions": {
        "customPlotOptions": {},
        "displayType": "table",
        "pivotAggregation": null,
        "pivotColumns": null,
        "xColumns": null,
        "yColumns": null
       },
       "removedWidgets": [],
       "schema": [],
       "type": "table"
      }
     },
     "output_type": "display_data"
    }
   ],
   "source": [
    "%sql\n",
    "create table golden.QuantidadeXEstado stored as ORC as \n",
    "  SELECT\n",
    "    `Electric Vehicle Type`,\n",
    "    State,\n",
    "    COUNT(*) AS QuantidadedeVeiculo\n",
    "  FROM silver.eletricvehicle\n",
    "  GROUP BY State,`Electric Vehicle Type`;"
   ]
  },
  {
   "cell_type": "code",
   "execution_count": 0,
   "metadata": {
    "application/vnd.databricks.v1+cell": {
     "cellMetadata": {
      "byteLimit": 2048000,
      "implicitDf": true,
      "rowLimit": 10000
     },
     "inputWidgets": {},
     "nuid": "124150f4-9178-4cb0-9f21-188800f8a810",
     "showTitle": true,
     "tableResultSettingsMap": {},
     "title": "Tabela Quantidade X Estado"
    }
   },
   "outputs": [
    {
     "output_type": "display_data",
     "data": {
      "text/html": [
       "<style scoped>\n",
       "  .table-result-container {\n",
       "    max-height: 300px;\n",
       "    overflow: auto;\n",
       "  }\n",
       "  table, th, td {\n",
       "    border: 1px solid black;\n",
       "    border-collapse: collapse;\n",
       "  }\n",
       "  th, td {\n",
       "    padding: 5px;\n",
       "  }\n",
       "  th {\n",
       "    text-align: left;\n",
       "  }\n",
       "</style><div class='table-result-container'><table class='table-result'><thead style='background-color: white'><tr><th>Electric Vehicle Type</th><th>State</th><th>QuantidadedeVeiculo</th></tr></thead><tbody><tr><td>Battery Electric Vehicle (BEV)</td><td>VA</td><td>20</td></tr><tr><td>Plug-in Hybrid Electric Vehicle (PHEV)</td><td>NY</td><td>2</td></tr><tr><td>Plug-in Hybrid Electric Vehicle (PHEV)</td><td>HI</td><td>4</td></tr><tr><td>Battery Electric Vehicle (BEV)</td><td>AL</td><td>3</td></tr><tr><td>Battery Electric Vehicle (BEV)</td><td>UT</td><td>1</td></tr><tr><td>Battery Electric Vehicle (BEV)</td><td>IL</td><td>9</td></tr><tr><td>Plug-in Hybrid Electric Vehicle (PHEV)</td><td>FL</td><td>3</td></tr><tr><td>Plug-in Hybrid Electric Vehicle (PHEV)</td><td>NV</td><td>2</td></tr><tr><td>Battery Electric Vehicle (BEV)</td><td>CO</td><td>9</td></tr><tr><td>Battery Electric Vehicle (BEV)</td><td>LA</td><td>3</td></tr><tr><td>Plug-in Hybrid Electric Vehicle (PHEV)</td><td>OR</td><td>5</td></tr><tr><td>Battery Electric Vehicle (BEV)</td><td>AK</td><td>1</td></tr><tr><td>Battery Electric Vehicle (BEV)</td><td>FL</td><td>6</td></tr><tr><td>Plug-in Hybrid Electric Vehicle (PHEV)</td><td>CT</td><td>6</td></tr><tr><td>Plug-in Hybrid Electric Vehicle (PHEV)</td><td>UT</td><td>1</td></tr><tr><td>Plug-in Hybrid Electric Vehicle (PHEV)</td><td>AZ</td><td>5</td></tr><tr><td>Battery Electric Vehicle (BEV)</td><td>OH</td><td>2</td></tr><tr><td>Plug-in Hybrid Electric Vehicle (PHEV)</td><td>IL</td><td>3</td></tr><tr><td>Plug-in Hybrid Electric Vehicle (PHEV)</td><td>MD</td><td>15</td></tr><tr><td>Plug-in Hybrid Electric Vehicle (PHEV)</td><td>TX</td><td>6</td></tr><tr><td>Battery Electric Vehicle (BEV)</td><td>NC</td><td>9</td></tr><tr><td>Battery Electric Vehicle (BEV)</td><td>AR</td><td>2</td></tr><tr><td>Battery Electric Vehicle (BEV)</td><td>OR</td><td>3</td></tr><tr><td>Battery Electric Vehicle (BEV)</td><td>MD</td><td>18</td></tr><tr><td>Plug-in Hybrid Electric Vehicle (PHEV)</td><td>SC</td><td>3</td></tr><tr><td>Plug-in Hybrid Electric Vehicle (PHEV)</td><td>MA</td><td>1</td></tr><tr><td>Battery Electric Vehicle (BEV)</td><td>MA</td><td>2</td></tr><tr><td>Battery Electric Vehicle (BEV)</td><td>GA</td><td>4</td></tr><tr><td>Battery Electric Vehicle (BEV)</td><td>TX</td><td>14</td></tr><tr><td>Battery Electric Vehicle (BEV)</td><td>NE</td><td>2</td></tr><tr><td>Battery Electric Vehicle (BEV)</td><td>KY</td><td>2</td></tr><tr><td>Battery Electric Vehicle (BEV)</td><td>NV</td><td>4</td></tr><tr><td>Plug-in Hybrid Electric Vehicle (PHEV)</td><td>GA</td><td>1</td></tr><tr><td>Battery Electric Vehicle (BEV)</td><td>SC</td><td>3</td></tr><tr><td>Battery Electric Vehicle (BEV)</td><td>NY</td><td>5</td></tr><tr><td>Plug-in Hybrid Electric Vehicle (PHEV)</td><td>CA</td><td>31</td></tr><tr><td>Battery Electric Vehicle (BEV)</td><td>ID</td><td>2</td></tr><tr><td>Plug-in Hybrid Electric Vehicle (PHEV)</td><td>KS</td><td>1</td></tr><tr><td>Plug-in Hybrid Electric Vehicle (PHEV)</td><td>WA</td><td>33556</td></tr><tr><td>Battery Electric Vehicle (BEV)</td><td>NJ</td><td>5</td></tr><tr><td>Plug-in Hybrid Electric Vehicle (PHEV)</td><td>NJ</td><td>4</td></tr><tr><td>Battery Electric Vehicle (BEV)</td><td>MO</td><td>3</td></tr><tr><td>Battery Electric Vehicle (BEV)</td><td>WA</td><td>116585</td></tr><tr><td>Battery Electric Vehicle (BEV)</td><td>WY</td><td>2</td></tr><tr><td>Battery Electric Vehicle (BEV)</td><td>NH</td><td>1</td></tr><tr><td>Plug-in Hybrid Electric Vehicle (PHEV)</td><td>NC</td><td>4</td></tr><tr><td>Battery Electric Vehicle (BEV)</td><td>PA</td><td>2</td></tr><tr><td>Battery Electric Vehicle (BEV)</td><td>KS</td><td>1</td></tr><tr><td>Plug-in Hybrid Electric Vehicle (PHEV)</td><td>VA</td><td>15</td></tr><tr><td>Battery Electric Vehicle (BEV)</td><td>CA</td><td>61</td></tr></tbody></table></div>"
      ]
     },
     "metadata": {
      "application/vnd.databricks.v1+output": {
       "addedWidgets": {},
       "aggData": [],
       "aggError": "",
       "aggOverflow": false,
       "aggSchema": [],
       "aggSeriesLimitReached": false,
       "aggType": "",
       "arguments": {},
       "columnCustomDisplayInfos": {},
       "data": [
        [
         "Battery Electric Vehicle (BEV)",
         "VA",
         20
        ],
        [
         "Plug-in Hybrid Electric Vehicle (PHEV)",
         "NY",
         2
        ],
        [
         "Plug-in Hybrid Electric Vehicle (PHEV)",
         "HI",
         4
        ],
        [
         "Battery Electric Vehicle (BEV)",
         "AL",
         3
        ],
        [
         "Battery Electric Vehicle (BEV)",
         "UT",
         1
        ],
        [
         "Battery Electric Vehicle (BEV)",
         "IL",
         9
        ],
        [
         "Plug-in Hybrid Electric Vehicle (PHEV)",
         "FL",
         3
        ],
        [
         "Plug-in Hybrid Electric Vehicle (PHEV)",
         "NV",
         2
        ],
        [
         "Battery Electric Vehicle (BEV)",
         "CO",
         9
        ],
        [
         "Battery Electric Vehicle (BEV)",
         "LA",
         3
        ],
        [
         "Plug-in Hybrid Electric Vehicle (PHEV)",
         "OR",
         5
        ],
        [
         "Battery Electric Vehicle (BEV)",
         "AK",
         1
        ],
        [
         "Battery Electric Vehicle (BEV)",
         "FL",
         6
        ],
        [
         "Plug-in Hybrid Electric Vehicle (PHEV)",
         "CT",
         6
        ],
        [
         "Plug-in Hybrid Electric Vehicle (PHEV)",
         "UT",
         1
        ],
        [
         "Plug-in Hybrid Electric Vehicle (PHEV)",
         "AZ",
         5
        ],
        [
         "Battery Electric Vehicle (BEV)",
         "OH",
         2
        ],
        [
         "Plug-in Hybrid Electric Vehicle (PHEV)",
         "IL",
         3
        ],
        [
         "Plug-in Hybrid Electric Vehicle (PHEV)",
         "MD",
         15
        ],
        [
         "Plug-in Hybrid Electric Vehicle (PHEV)",
         "TX",
         6
        ],
        [
         "Battery Electric Vehicle (BEV)",
         "NC",
         9
        ],
        [
         "Battery Electric Vehicle (BEV)",
         "AR",
         2
        ],
        [
         "Battery Electric Vehicle (BEV)",
         "OR",
         3
        ],
        [
         "Battery Electric Vehicle (BEV)",
         "MD",
         18
        ],
        [
         "Plug-in Hybrid Electric Vehicle (PHEV)",
         "SC",
         3
        ],
        [
         "Plug-in Hybrid Electric Vehicle (PHEV)",
         "MA",
         1
        ],
        [
         "Battery Electric Vehicle (BEV)",
         "MA",
         2
        ],
        [
         "Battery Electric Vehicle (BEV)",
         "GA",
         4
        ],
        [
         "Battery Electric Vehicle (BEV)",
         "TX",
         14
        ],
        [
         "Battery Electric Vehicle (BEV)",
         "NE",
         2
        ],
        [
         "Battery Electric Vehicle (BEV)",
         "KY",
         2
        ],
        [
         "Battery Electric Vehicle (BEV)",
         "NV",
         4
        ],
        [
         "Plug-in Hybrid Electric Vehicle (PHEV)",
         "GA",
         1
        ],
        [
         "Battery Electric Vehicle (BEV)",
         "SC",
         3
        ],
        [
         "Battery Electric Vehicle (BEV)",
         "NY",
         5
        ],
        [
         "Plug-in Hybrid Electric Vehicle (PHEV)",
         "CA",
         31
        ],
        [
         "Battery Electric Vehicle (BEV)",
         "ID",
         2
        ],
        [
         "Plug-in Hybrid Electric Vehicle (PHEV)",
         "KS",
         1
        ],
        [
         "Plug-in Hybrid Electric Vehicle (PHEV)",
         "WA",
         33556
        ],
        [
         "Battery Electric Vehicle (BEV)",
         "NJ",
         5
        ],
        [
         "Plug-in Hybrid Electric Vehicle (PHEV)",
         "NJ",
         4
        ],
        [
         "Battery Electric Vehicle (BEV)",
         "MO",
         3
        ],
        [
         "Battery Electric Vehicle (BEV)",
         "WA",
         116585
        ],
        [
         "Battery Electric Vehicle (BEV)",
         "WY",
         2
        ],
        [
         "Battery Electric Vehicle (BEV)",
         "NH",
         1
        ],
        [
         "Plug-in Hybrid Electric Vehicle (PHEV)",
         "NC",
         4
        ],
        [
         "Battery Electric Vehicle (BEV)",
         "PA",
         2
        ],
        [
         "Battery Electric Vehicle (BEV)",
         "KS",
         1
        ],
        [
         "Plug-in Hybrid Electric Vehicle (PHEV)",
         "VA",
         15
        ],
        [
         "Battery Electric Vehicle (BEV)",
         "CA",
         61
        ]
       ],
       "datasetInfos": [],
       "dbfsResultPath": null,
       "isJsonSchema": true,
       "metadata": {},
       "overflow": false,
       "plotOptions": {
        "customPlotOptions": {},
        "displayType": "table",
        "pivotAggregation": null,
        "pivotColumns": null,
        "xColumns": null,
        "yColumns": null
       },
       "removedWidgets": [],
       "schema": [
        {
         "metadata": "{}",
         "name": "Electric Vehicle Type",
         "type": "\"string\""
        },
        {
         "metadata": "{}",
         "name": "State",
         "type": "\"string\""
        },
        {
         "metadata": "{}",
         "name": "QuantidadedeVeiculo",
         "type": "\"long\""
        }
       ],
       "type": "table"
      }
     },
     "output_type": "display_data"
    }
   ],
   "source": [
    "%sql \n",
    "SELECT * \n",
    "  FROM golden.quantidadexestado LIMIT 50"
   ]
  },
  {
   "cell_type": "code",
   "execution_count": 0,
   "metadata": {
    "application/vnd.databricks.v1+cell": {
     "cellMetadata": {
      "byteLimit": 2048000,
      "implicitDf": true,
      "rowLimit": 10000
     },
     "inputWidgets": {},
     "nuid": "4ff36b2a-692b-4a8e-9094-ef03e404042a",
     "showTitle": true,
     "tableResultSettingsMap": {},
     "title": "Quantidade de hibrido e eletrico por marca"
    }
   },
   "outputs": [
    {
     "output_type": "display_data",
     "data": {
      "text/html": [
       "<style scoped>\n",
       "  .table-result-container {\n",
       "    max-height: 300px;\n",
       "    overflow: auto;\n",
       "  }\n",
       "  table, th, td {\n",
       "    border: 1px solid black;\n",
       "    border-collapse: collapse;\n",
       "  }\n",
       "  th, td {\n",
       "    padding: 5px;\n",
       "  }\n",
       "  th {\n",
       "    text-align: left;\n",
       "  }\n",
       "</style><div class='table-result-container'><table class='table-result'><thead style='background-color: white'><tr></tr></thead><tbody></tbody></table></div>"
      ]
     },
     "metadata": {
      "application/vnd.databricks.v1+output": {
       "addedWidgets": {},
       "aggData": [],
       "aggError": "",
       "aggOverflow": false,
       "aggSchema": [],
       "aggSeriesLimitReached": false,
       "aggType": "",
       "arguments": {},
       "columnCustomDisplayInfos": {},
       "data": [],
       "datasetInfos": [],
       "dbfsResultPath": null,
       "isJsonSchema": true,
       "metadata": {},
       "overflow": false,
       "plotOptions": {
        "customPlotOptions": {},
        "displayType": "table",
        "pivotAggregation": null,
        "pivotColumns": null,
        "xColumns": null,
        "yColumns": null
       },
       "removedWidgets": [],
       "schema": [],
       "type": "table"
      }
     },
     "output_type": "display_data"
    }
   ],
   "source": [
    "%sql\n",
    "create table golden.TipoXMontadora stored as ORC as \n",
    "  SELECT\n",
    "    `Electric Vehicle Type`,\n",
    "    Make,\n",
    "    COUNT(*) AS QuantidadedeVeiculo\n",
    "    FROM silver.eletricvehicle\n",
    "    GROUP BY Make,`Electric Vehicle Type`;"
   ]
  },
  {
   "cell_type": "code",
   "execution_count": 0,
   "metadata": {
    "application/vnd.databricks.v1+cell": {
     "cellMetadata": {
      "byteLimit": 2048000,
      "implicitDf": true,
      "rowLimit": 10000
     },
     "inputWidgets": {},
     "nuid": "e195cdcb-24da-4ac3-91ee-3c0bc2961a7b",
     "showTitle": true,
     "tableResultSettingsMap": {},
     "title": "Tabela Tipo X Montadora"
    }
   },
   "outputs": [
    {
     "output_type": "display_data",
     "data": {
      "text/html": [
       "<style scoped>\n",
       "  .table-result-container {\n",
       "    max-height: 300px;\n",
       "    overflow: auto;\n",
       "  }\n",
       "  table, th, td {\n",
       "    border: 1px solid black;\n",
       "    border-collapse: collapse;\n",
       "  }\n",
       "  th, td {\n",
       "    padding: 5px;\n",
       "  }\n",
       "  th {\n",
       "    text-align: left;\n",
       "  }\n",
       "</style><div class='table-result-container'><table class='table-result'><thead style='background-color: white'><tr><th>Electric Vehicle Type</th><th>Make</th><th>QuantidadedeVeiculo</th></tr></thead><tbody><tr><td>Battery Electric Vehicle (BEV)</td><td>POLESTAR</td><td>764</td></tr><tr><td>Plug-in Hybrid Electric Vehicle (PHEV)</td><td>CHRYSLER</td><td>2642</td></tr><tr><td>Battery Electric Vehicle (BEV)</td><td>HYUNDAI</td><td>2695</td></tr><tr><td>Plug-in Hybrid Electric Vehicle (PHEV)</td><td>TOYOTA</td><td>5034</td></tr><tr><td>Plug-in Hybrid Electric Vehicle (PHEV)</td><td>ALFA ROMEO</td><td>12</td></tr><tr><td>Plug-in Hybrid Electric Vehicle (PHEV)</td><td>CHEVROLET</td><td>4890</td></tr><tr><td>Battery Electric Vehicle (BEV)</td><td>PORSCHE</td><td>547</td></tr><tr><td>Plug-in Hybrid Electric Vehicle (PHEV)</td><td>FISKER</td><td>17</td></tr><tr><td>Battery Electric Vehicle (BEV)</td><td>TH!NK</td><td>5</td></tr><tr><td>Plug-in Hybrid Electric Vehicle (PHEV)</td><td>JEEP</td><td>3292</td></tr><tr><td>Battery Electric Vehicle (BEV)</td><td>AUDI</td><td>1662</td></tr><tr><td>Battery Electric Vehicle (BEV)</td><td>LEXUS</td><td>54</td></tr><tr><td>Battery Electric Vehicle (BEV)</td><td>MINI</td><td>579</td></tr><tr><td>Battery Electric Vehicle (BEV)</td><td>TOYOTA</td><td>189</td></tr><tr><td>Plug-in Hybrid Electric Vehicle (PHEV)</td><td>CADILLAC</td><td>92</td></tr><tr><td>Plug-in Hybrid Electric Vehicle (PHEV)</td><td>MITSUBISHI</td><td>790</td></tr><tr><td>Plug-in Hybrid Electric Vehicle (PHEV)</td><td>MAZDA</td><td>136</td></tr><tr><td>Battery Electric Vehicle (BEV)</td><td>MERCEDES-BENZ</td><td>790</td></tr><tr><td>Plug-in Hybrid Electric Vehicle (PHEV)</td><td>LAND ROVER</td><td>47</td></tr><tr><td>Plug-in Hybrid Electric Vehicle (PHEV)</td><td>MINI</td><td>212</td></tr><tr><td>Plug-in Hybrid Electric Vehicle (PHEV)</td><td>BMW</td><td>4643</td></tr><tr><td>Battery Electric Vehicle (BEV)</td><td>CHEVROLET</td><td>7136</td></tr><tr><td>Battery Electric Vehicle (BEV)</td><td>GENESIS</td><td>107</td></tr><tr><td>Battery Electric Vehicle (BEV)</td><td>NISSAN</td><td>13496</td></tr><tr><td>Battery Electric Vehicle (BEV)</td><td>LUCID</td><td>190</td></tr><tr><td>Battery Electric Vehicle (BEV)</td><td>SUBARU</td><td>559</td></tr><tr><td>Plug-in Hybrid Electric Vehicle (PHEV)</td><td>BENTLEY</td><td>2</td></tr><tr><td>Plug-in Hybrid Electric Vehicle (PHEV)</td><td>HYUNDAI</td><td>476</td></tr><tr><td>Plug-in Hybrid Electric Vehicle (PHEV)</td><td>LEXUS</td><td>84</td></tr><tr><td>Plug-in Hybrid Electric Vehicle (PHEV)</td><td>VOLVO</td><td>2355</td></tr><tr><td>Plug-in Hybrid Electric Vehicle (PHEV)</td><td>PORSCHE</td><td>481</td></tr><tr><td>Plug-in Hybrid Electric Vehicle (PHEV)</td><td>HONDA</td><td>810</td></tr><tr><td>Battery Electric Vehicle (BEV)</td><td>FIAT</td><td>806</td></tr><tr><td>Plug-in Hybrid Electric Vehicle (PHEV)</td><td>KIA</td><td>2050</td></tr><tr><td>Plug-in Hybrid Electric Vehicle (PHEV)</td><td>MERCEDES-BENZ</td><td>264</td></tr><tr><td>Battery Electric Vehicle (BEV)</td><td>TESLA</td><td>68981</td></tr><tr><td>Battery Electric Vehicle (BEV)</td><td>KIA</td><td>4148</td></tr><tr><td>Battery Electric Vehicle (BEV)</td><td>MITSUBISHI</td><td>59</td></tr><tr><td>Battery Electric Vehicle (BEV)</td><td>VOLVO</td><td>1181</td></tr><tr><td>Battery Electric Vehicle (BEV)</td><td>FORD</td><td>3908</td></tr><tr><td>Battery Electric Vehicle (BEV)</td><td>CADILLAC</td><td>84</td></tr><tr><td>Battery Electric Vehicle (BEV)</td><td>JAGUAR</td><td>228</td></tr><tr><td>Plug-in Hybrid Electric Vehicle (PHEV)</td><td>LINCOLN</td><td>229</td></tr><tr><td>Battery Electric Vehicle (BEV)</td><td>BMW</td><td>1796</td></tr><tr><td>Plug-in Hybrid Electric Vehicle (PHEV)</td><td>SUBARU</td><td>64</td></tr><tr><td>Battery Electric Vehicle (BEV)</td><td>VOLKSWAGEN</td><td>4074</td></tr><tr><td>Plug-in Hybrid Electric Vehicle (PHEV)</td><td>FORD</td><td>3706</td></tr><tr><td>Battery Electric Vehicle (BEV)</td><td>RIVIAN</td><td>2483</td></tr><tr><td>Plug-in Hybrid Electric Vehicle (PHEV)</td><td>AUDI</td><td>1344</td></tr><tr><td>Battery Electric Vehicle (BEV)</td><td>SMART</td><td>274</td></tr></tbody></table></div>"
      ]
     },
     "metadata": {
      "application/vnd.databricks.v1+output": {
       "addedWidgets": {},
       "aggData": [],
       "aggError": "",
       "aggOverflow": false,
       "aggSchema": [],
       "aggSeriesLimitReached": false,
       "aggType": "",
       "arguments": {},
       "columnCustomDisplayInfos": {},
       "data": [
        [
         "Battery Electric Vehicle (BEV)",
         "POLESTAR",
         764
        ],
        [
         "Plug-in Hybrid Electric Vehicle (PHEV)",
         "CHRYSLER",
         2642
        ],
        [
         "Battery Electric Vehicle (BEV)",
         "HYUNDAI",
         2695
        ],
        [
         "Plug-in Hybrid Electric Vehicle (PHEV)",
         "TOYOTA",
         5034
        ],
        [
         "Plug-in Hybrid Electric Vehicle (PHEV)",
         "ALFA ROMEO",
         12
        ],
        [
         "Plug-in Hybrid Electric Vehicle (PHEV)",
         "CHEVROLET",
         4890
        ],
        [
         "Battery Electric Vehicle (BEV)",
         "PORSCHE",
         547
        ],
        [
         "Plug-in Hybrid Electric Vehicle (PHEV)",
         "FISKER",
         17
        ],
        [
         "Battery Electric Vehicle (BEV)",
         "TH!NK",
         5
        ],
        [
         "Plug-in Hybrid Electric Vehicle (PHEV)",
         "JEEP",
         3292
        ],
        [
         "Battery Electric Vehicle (BEV)",
         "AUDI",
         1662
        ],
        [
         "Battery Electric Vehicle (BEV)",
         "LEXUS",
         54
        ],
        [
         "Battery Electric Vehicle (BEV)",
         "MINI",
         579
        ],
        [
         "Battery Electric Vehicle (BEV)",
         "TOYOTA",
         189
        ],
        [
         "Plug-in Hybrid Electric Vehicle (PHEV)",
         "CADILLAC",
         92
        ],
        [
         "Plug-in Hybrid Electric Vehicle (PHEV)",
         "MITSUBISHI",
         790
        ],
        [
         "Plug-in Hybrid Electric Vehicle (PHEV)",
         "MAZDA",
         136
        ],
        [
         "Battery Electric Vehicle (BEV)",
         "MERCEDES-BENZ",
         790
        ],
        [
         "Plug-in Hybrid Electric Vehicle (PHEV)",
         "LAND ROVER",
         47
        ],
        [
         "Plug-in Hybrid Electric Vehicle (PHEV)",
         "MINI",
         212
        ],
        [
         "Plug-in Hybrid Electric Vehicle (PHEV)",
         "BMW",
         4643
        ],
        [
         "Battery Electric Vehicle (BEV)",
         "CHEVROLET",
         7136
        ],
        [
         "Battery Electric Vehicle (BEV)",
         "GENESIS",
         107
        ],
        [
         "Battery Electric Vehicle (BEV)",
         "NISSAN",
         13496
        ],
        [
         "Battery Electric Vehicle (BEV)",
         "LUCID",
         190
        ],
        [
         "Battery Electric Vehicle (BEV)",
         "SUBARU",
         559
        ],
        [
         "Plug-in Hybrid Electric Vehicle (PHEV)",
         "BENTLEY",
         2
        ],
        [
         "Plug-in Hybrid Electric Vehicle (PHEV)",
         "HYUNDAI",
         476
        ],
        [
         "Plug-in Hybrid Electric Vehicle (PHEV)",
         "LEXUS",
         84
        ],
        [
         "Plug-in Hybrid Electric Vehicle (PHEV)",
         "VOLVO",
         2355
        ],
        [
         "Plug-in Hybrid Electric Vehicle (PHEV)",
         "PORSCHE",
         481
        ],
        [
         "Plug-in Hybrid Electric Vehicle (PHEV)",
         "HONDA",
         810
        ],
        [
         "Battery Electric Vehicle (BEV)",
         "FIAT",
         806
        ],
        [
         "Plug-in Hybrid Electric Vehicle (PHEV)",
         "KIA",
         2050
        ],
        [
         "Plug-in Hybrid Electric Vehicle (PHEV)",
         "MERCEDES-BENZ",
         264
        ],
        [
         "Battery Electric Vehicle (BEV)",
         "TESLA",
         68981
        ],
        [
         "Battery Electric Vehicle (BEV)",
         "KIA",
         4148
        ],
        [
         "Battery Electric Vehicle (BEV)",
         "MITSUBISHI",
         59
        ],
        [
         "Battery Electric Vehicle (BEV)",
         "VOLVO",
         1181
        ],
        [
         "Battery Electric Vehicle (BEV)",
         "FORD",
         3908
        ],
        [
         "Battery Electric Vehicle (BEV)",
         "CADILLAC",
         84
        ],
        [
         "Battery Electric Vehicle (BEV)",
         "JAGUAR",
         228
        ],
        [
         "Plug-in Hybrid Electric Vehicle (PHEV)",
         "LINCOLN",
         229
        ],
        [
         "Battery Electric Vehicle (BEV)",
         "BMW",
         1796
        ],
        [
         "Plug-in Hybrid Electric Vehicle (PHEV)",
         "SUBARU",
         64
        ],
        [
         "Battery Electric Vehicle (BEV)",
         "VOLKSWAGEN",
         4074
        ],
        [
         "Plug-in Hybrid Electric Vehicle (PHEV)",
         "FORD",
         3706
        ],
        [
         "Battery Electric Vehicle (BEV)",
         "RIVIAN",
         2483
        ],
        [
         "Plug-in Hybrid Electric Vehicle (PHEV)",
         "AUDI",
         1344
        ],
        [
         "Battery Electric Vehicle (BEV)",
         "SMART",
         274
        ]
       ],
       "datasetInfos": [],
       "dbfsResultPath": null,
       "isJsonSchema": true,
       "metadata": {},
       "overflow": false,
       "plotOptions": {
        "customPlotOptions": {},
        "displayType": "table",
        "pivotAggregation": null,
        "pivotColumns": null,
        "xColumns": null,
        "yColumns": null
       },
       "removedWidgets": [],
       "schema": [
        {
         "metadata": "{}",
         "name": "Electric Vehicle Type",
         "type": "\"string\""
        },
        {
         "metadata": "{}",
         "name": "Make",
         "type": "\"string\""
        },
        {
         "metadata": "{}",
         "name": "QuantidadedeVeiculo",
         "type": "\"long\""
        }
       ],
       "type": "table"
      }
     },
     "output_type": "display_data"
    }
   ],
   "source": [
    "%sql \n",
    "SELECT * \n",
    "  FROM golden.tipoxmontadora LIMIT 50"
   ]
  },
  {
   "cell_type": "code",
   "execution_count": 0,
   "metadata": {
    "application/vnd.databricks.v1+cell": {
     "cellMetadata": {
      "byteLimit": 2048000,
      "implicitDf": true,
      "rowLimit": 10000
     },
     "inputWidgets": {},
     "nuid": "a9fa2897-3d98-4501-8780-6166c39e91df",
     "showTitle": false,
     "tableResultSettingsMap": {},
     "title": ""
    }
   },
   "outputs": [
    {
     "output_type": "display_data",
     "data": {
      "text/html": [
       "<style scoped>\n",
       "  .table-result-container {\n",
       "    max-height: 300px;\n",
       "    overflow: auto;\n",
       "  }\n",
       "  table, th, td {\n",
       "    border: 1px solid black;\n",
       "    border-collapse: collapse;\n",
       "  }\n",
       "  th, td {\n",
       "    padding: 5px;\n",
       "  }\n",
       "  th {\n",
       "    text-align: left;\n",
       "  }\n",
       "</style><div class='table-result-container'><table class='table-result'><thead style='background-color: white'><tr></tr></thead><tbody></tbody></table></div>"
      ]
     },
     "metadata": {
      "application/vnd.databricks.v1+output": {
       "addedWidgets": {},
       "aggData": [],
       "aggError": "",
       "aggOverflow": false,
       "aggSchema": [],
       "aggSeriesLimitReached": false,
       "aggType": "",
       "arguments": {},
       "columnCustomDisplayInfos": {},
       "data": [],
       "datasetInfos": [],
       "dbfsResultPath": null,
       "isJsonSchema": true,
       "metadata": {},
       "overflow": false,
       "plotOptions": {
        "customPlotOptions": {},
        "displayType": "table",
        "pivotAggregation": null,
        "pivotColumns": null,
        "xColumns": null,
        "yColumns": null
       },
       "removedWidgets": [],
       "schema": [],
       "type": "table"
      }
     },
     "output_type": "display_data"
    }
   ],
   "source": [
    "%sql\n",
    "create table golden.QuantidadeXAno stored as ORC as \n",
    "  SELECT\n",
    "    `Model Year`,\n",
    "    COUNT(*) AS QuantidadedeVeiculo\n",
    "  FROM silver.eletricvehicle\n",
    "  GROUP BY `Model Year`;"
   ]
  },
  {
   "cell_type": "code",
   "execution_count": 0,
   "metadata": {
    "application/vnd.databricks.v1+cell": {
     "cellMetadata": {
      "byteLimit": 2048000,
      "implicitDf": true,
      "rowLimit": 10000
     },
     "inputWidgets": {},
     "nuid": "0e21d6c2-aede-49f6-9156-87bef2460dfd",
     "showTitle": true,
     "tableResultSettingsMap": {},
     "title": "Tabela Quantidade X Ano"
    }
   },
   "outputs": [
    {
     "output_type": "display_data",
     "data": {
      "text/html": [
       "<style scoped>\n",
       "  .table-result-container {\n",
       "    max-height: 300px;\n",
       "    overflow: auto;\n",
       "  }\n",
       "  table, th, td {\n",
       "    border: 1px solid black;\n",
       "    border-collapse: collapse;\n",
       "  }\n",
       "  th, td {\n",
       "    padding: 5px;\n",
       "  }\n",
       "  th {\n",
       "    text-align: left;\n",
       "  }\n",
       "</style><div class='table-result-container'><table class='table-result'><thead style='background-color: white'><tr><th>Model Year</th><th>QuantidadedeVeiculo</th></tr></thead><tbody><tr><td>2018</td><td>14441</td></tr><tr><td>2015</td><td>4934</td></tr><tr><td>2023</td><td>37079</td></tr><tr><td>2022</td><td>27799</td></tr><tr><td>2013</td><td>4565</td></tr><tr><td>1997</td><td>1</td></tr><tr><td>2014</td><td>3613</td></tr><tr><td>2019</td><td>10716</td></tr><tr><td>2020</td><td>11294</td></tr><tr><td>2012</td><td>1633</td></tr><tr><td>2016</td><td>5650</td></tr><tr><td>2024</td><td>642</td></tr><tr><td>2000</td><td>8</td></tr><tr><td>2010</td><td>24</td></tr><tr><td>2011</td><td>796</td></tr><tr><td>2008</td><td>18</td></tr><tr><td>2017</td><td>8574</td></tr><tr><td>1999</td><td>4</td></tr><tr><td>2021</td><td>18684</td></tr><tr><td>2002</td><td>2</td></tr><tr><td>2003</td><td>1</td></tr><tr><td>1998</td><td>1</td></tr></tbody></table></div>"
      ]
     },
     "metadata": {
      "application/vnd.databricks.v1+output": {
       "addedWidgets": {},
       "aggData": [],
       "aggError": "",
       "aggOverflow": false,
       "aggSchema": [],
       "aggSeriesLimitReached": false,
       "aggType": "",
       "arguments": {},
       "columnCustomDisplayInfos": {},
       "data": [
        [
         2018,
         14441
        ],
        [
         2015,
         4934
        ],
        [
         2023,
         37079
        ],
        [
         2022,
         27799
        ],
        [
         2013,
         4565
        ],
        [
         1997,
         1
        ],
        [
         2014,
         3613
        ],
        [
         2019,
         10716
        ],
        [
         2020,
         11294
        ],
        [
         2012,
         1633
        ],
        [
         2016,
         5650
        ],
        [
         2024,
         642
        ],
        [
         2000,
         8
        ],
        [
         2010,
         24
        ],
        [
         2011,
         796
        ],
        [
         2008,
         18
        ],
        [
         2017,
         8574
        ],
        [
         1999,
         4
        ],
        [
         2021,
         18684
        ],
        [
         2002,
         2
        ],
        [
         2003,
         1
        ],
        [
         1998,
         1
        ]
       ],
       "datasetInfos": [],
       "dbfsResultPath": null,
       "isJsonSchema": true,
       "metadata": {},
       "overflow": false,
       "plotOptions": {
        "customPlotOptions": {},
        "displayType": "table",
        "pivotAggregation": null,
        "pivotColumns": null,
        "xColumns": null,
        "yColumns": null
       },
       "removedWidgets": [],
       "schema": [
        {
         "metadata": "{}",
         "name": "Model Year",
         "type": "\"integer\""
        },
        {
         "metadata": "{}",
         "name": "QuantidadedeVeiculo",
         "type": "\"long\""
        }
       ],
       "type": "table"
      }
     },
     "output_type": "display_data"
    }
   ],
   "source": [
    "%sql \n",
    "SELECT * \n",
    "  FROM golden.quantidadexano LIMIT 50"
   ]
  },
  {
   "cell_type": "code",
   "execution_count": 0,
   "metadata": {
    "application/vnd.databricks.v1+cell": {
     "cellMetadata": {
      "byteLimit": 2048000,
      "implicitDf": true,
      "rowLimit": 10000
     },
     "inputWidgets": {},
     "nuid": "75f2031d-2e72-4793-94c0-6e0cc22654b0",
     "showTitle": false,
     "tableResultSettingsMap": {},
     "title": ""
    }
   },
   "outputs": [
    {
     "output_type": "display_data",
     "data": {
      "text/html": [
       "<style scoped>\n",
       "  .table-result-container {\n",
       "    max-height: 300px;\n",
       "    overflow: auto;\n",
       "  }\n",
       "  table, th, td {\n",
       "    border: 1px solid black;\n",
       "    border-collapse: collapse;\n",
       "  }\n",
       "  th, td {\n",
       "    padding: 5px;\n",
       "  }\n",
       "  th {\n",
       "    text-align: left;\n",
       "  }\n",
       "</style><div class='table-result-container'><table class='table-result'><thead style='background-color: white'><tr></tr></thead><tbody></tbody></table></div>"
      ]
     },
     "metadata": {
      "application/vnd.databricks.v1+output": {
       "addedWidgets": {},
       "aggData": [],
       "aggError": "",
       "aggOverflow": false,
       "aggSchema": [],
       "aggSeriesLimitReached": false,
       "aggType": "",
       "arguments": {},
       "columnCustomDisplayInfos": {},
       "data": [],
       "datasetInfos": [],
       "dbfsResultPath": null,
       "isJsonSchema": true,
       "metadata": {},
       "overflow": false,
       "plotOptions": {
        "customPlotOptions": {},
        "displayType": "table",
        "pivotAggregation": null,
        "pivotColumns": null,
        "xColumns": null,
        "yColumns": null
       },
       "removedWidgets": [],
       "schema": [],
       "type": "table"
      }
     },
     "output_type": "display_data"
    }
   ],
   "source": [
    "%sql\n",
    "create table golden.QuantidadeXMontadora stored as ORC as \n",
    "  SELECT\n",
    "    `Make`,\n",
    "    COUNT(*) AS quantidadedeveiculo\n",
    "  FROM silver.eletricvehicle\n",
    "  GROUP BY `Make`;"
   ]
  },
  {
   "cell_type": "code",
   "execution_count": 0,
   "metadata": {
    "application/vnd.databricks.v1+cell": {
     "cellMetadata": {
      "byteLimit": 2048000,
      "implicitDf": true,
      "rowLimit": 10000
     },
     "inputWidgets": {},
     "nuid": "e23682c3-7978-4c96-9a13-01deb213a0a8",
     "showTitle": true,
     "tableResultSettingsMap": {},
     "title": "tabela Quantidade x Montadora"
    }
   },
   "outputs": [
    {
     "output_type": "display_data",
     "data": {
      "text/html": [
       "<style scoped>\n",
       "  .table-result-container {\n",
       "    max-height: 300px;\n",
       "    overflow: auto;\n",
       "  }\n",
       "  table, th, td {\n",
       "    border: 1px solid black;\n",
       "    border-collapse: collapse;\n",
       "  }\n",
       "  th, td {\n",
       "    padding: 5px;\n",
       "  }\n",
       "  th {\n",
       "    text-align: left;\n",
       "  }\n",
       "</style><div class='table-result-container'><table class='table-result'><thead style='background-color: white'><tr><th>Make</th><th>quantidadedeveiculo</th></tr></thead><tbody><tr><td>PORSCHE</td><td>1028</td></tr><tr><td>HYUNDAI</td><td>3171</td></tr><tr><td>FIAT</td><td>806</td></tr><tr><td>LUCID</td><td>190</td></tr><tr><td>TOYOTA</td><td>5223</td></tr><tr><td>SUBARU</td><td>623</td></tr><tr><td>NISSAN</td><td>13496</td></tr><tr><td>BENTLEY</td><td>2</td></tr><tr><td>FORD</td><td>7614</td></tr><tr><td>AUDI</td><td>3006</td></tr><tr><td>MINI</td><td>791</td></tr><tr><td>ALFA ROMEO</td><td>12</td></tr><tr><td>CHEVROLET</td><td>12026</td></tr><tr><td>JAGUAR</td><td>228</td></tr><tr><td>LEXUS</td><td>138</td></tr><tr><td>JEEP</td><td>3292</td></tr><tr><td>VOLVO</td><td>3536</td></tr><tr><td>TESLA</td><td>68981</td></tr><tr><td>MAZDA</td><td>136</td></tr><tr><td>POLESTAR</td><td>764</td></tr><tr><td>BMW</td><td>6439</td></tr><tr><td>VOLKSWAGEN</td><td>4074</td></tr><tr><td>KIA</td><td>6198</td></tr><tr><td>HONDA</td><td>810</td></tr><tr><td>SMART</td><td>274</td></tr><tr><td>TH!NK</td><td>5</td></tr><tr><td>CADILLAC</td><td>176</td></tr><tr><td>LINCOLN</td><td>229</td></tr><tr><td>GENESIS</td><td>107</td></tr><tr><td>RIVIAN</td><td>2483</td></tr><tr><td>FISKER</td><td>17</td></tr><tr><td>MERCEDES-BENZ</td><td>1054</td></tr><tr><td>CHRYSLER</td><td>2642</td></tr><tr><td>LAND ROVER</td><td>47</td></tr><tr><td>MITSUBISHI</td><td>849</td></tr><tr><td>AZURE DYNAMICS</td><td>9</td></tr><tr><td>WHEEGO ELECTRIC CARS</td><td>3</td></tr></tbody></table></div>"
      ]
     },
     "metadata": {
      "application/vnd.databricks.v1+output": {
       "addedWidgets": {},
       "aggData": [],
       "aggError": "",
       "aggOverflow": false,
       "aggSchema": [],
       "aggSeriesLimitReached": false,
       "aggType": "",
       "arguments": {},
       "columnCustomDisplayInfos": {},
       "data": [
        [
         "PORSCHE",
         1028
        ],
        [
         "HYUNDAI",
         3171
        ],
        [
         "FIAT",
         806
        ],
        [
         "LUCID",
         190
        ],
        [
         "TOYOTA",
         5223
        ],
        [
         "SUBARU",
         623
        ],
        [
         "NISSAN",
         13496
        ],
        [
         "BENTLEY",
         2
        ],
        [
         "FORD",
         7614
        ],
        [
         "AUDI",
         3006
        ],
        [
         "MINI",
         791
        ],
        [
         "ALFA ROMEO",
         12
        ],
        [
         "CHEVROLET",
         12026
        ],
        [
         "JAGUAR",
         228
        ],
        [
         "LEXUS",
         138
        ],
        [
         "JEEP",
         3292
        ],
        [
         "VOLVO",
         3536
        ],
        [
         "TESLA",
         68981
        ],
        [
         "MAZDA",
         136
        ],
        [
         "POLESTAR",
         764
        ],
        [
         "BMW",
         6439
        ],
        [
         "VOLKSWAGEN",
         4074
        ],
        [
         "KIA",
         6198
        ],
        [
         "HONDA",
         810
        ],
        [
         "SMART",
         274
        ],
        [
         "TH!NK",
         5
        ],
        [
         "CADILLAC",
         176
        ],
        [
         "LINCOLN",
         229
        ],
        [
         "GENESIS",
         107
        ],
        [
         "RIVIAN",
         2483
        ],
        [
         "FISKER",
         17
        ],
        [
         "MERCEDES-BENZ",
         1054
        ],
        [
         "CHRYSLER",
         2642
        ],
        [
         "LAND ROVER",
         47
        ],
        [
         "MITSUBISHI",
         849
        ],
        [
         "AZURE DYNAMICS",
         9
        ],
        [
         "WHEEGO ELECTRIC CARS",
         3
        ]
       ],
       "datasetInfos": [],
       "dbfsResultPath": null,
       "isJsonSchema": true,
       "metadata": {},
       "overflow": false,
       "plotOptions": {
        "customPlotOptions": {},
        "displayType": "table",
        "pivotAggregation": null,
        "pivotColumns": null,
        "xColumns": null,
        "yColumns": null
       },
       "removedWidgets": [],
       "schema": [
        {
         "metadata": "{}",
         "name": "Make",
         "type": "\"string\""
        },
        {
         "metadata": "{}",
         "name": "quantidadedeveiculo",
         "type": "\"long\""
        }
       ],
       "type": "table"
      }
     },
     "output_type": "display_data"
    }
   ],
   "source": [
    "%sql \n",
    "SELECT * \n",
    "  FROM golden.quantidadexmontadora LIMIT 50"
   ]
  },
  {
   "cell_type": "code",
   "execution_count": 0,
   "metadata": {
    "application/vnd.databricks.v1+cell": {
     "cellMetadata": {
      "byteLimit": 2048000,
      "implicitDf": true,
      "rowLimit": 10000
     },
     "inputWidgets": {},
     "nuid": "59c7aa60-cdf0-40b7-adca-015a23b39a2b",
     "showTitle": true,
     "tableResultSettingsMap": {},
     "title": "Importei da camada bronze para golden"
    }
   },
   "outputs": [
    {
     "output_type": "display_data",
     "data": {
      "text/html": [
       "<style scoped>\n",
       "  .table-result-container {\n",
       "    max-height: 300px;\n",
       "    overflow: auto;\n",
       "  }\n",
       "  table, th, td {\n",
       "    border: 1px solid black;\n",
       "    border-collapse: collapse;\n",
       "  }\n",
       "  th, td {\n",
       "    padding: 5px;\n",
       "  }\n",
       "  th {\n",
       "    text-align: left;\n",
       "  }\n",
       "</style><div class='table-result-container'><table class='table-result'><thead style='background-color: white'><tr></tr></thead><tbody></tbody></table></div>"
      ]
     },
     "metadata": {
      "application/vnd.databricks.v1+output": {
       "addedWidgets": {},
       "aggData": [],
       "aggError": "",
       "aggOverflow": false,
       "aggSchema": [],
       "aggSeriesLimitReached": false,
       "aggType": "",
       "arguments": {},
       "columnCustomDisplayInfos": {},
       "data": [],
       "datasetInfos": [],
       "dbfsResultPath": null,
       "isJsonSchema": true,
       "metadata": {},
       "overflow": false,
       "plotOptions": {
        "customPlotOptions": {},
        "displayType": "table",
        "pivotAggregation": null,
        "pivotColumns": null,
        "xColumns": null,
        "yColumns": null
       },
       "removedWidgets": [],
       "schema": [],
       "type": "table"
      }
     },
     "output_type": "display_data"
    }
   ],
   "source": [
    "%sql\n",
    "create table golden.eletricvehicle stored as ORC as \n",
    "  select *\n",
    "  from silver.eletricvehicle\n"
   ]
  },
  {
   "cell_type": "code",
   "execution_count": 0,
   "metadata": {
    "application/vnd.databricks.v1+cell": {
     "cellMetadata": {
      "byteLimit": 2048000,
      "implicitDf": true,
      "rowLimit": 10000
     },
     "inputWidgets": {},
     "nuid": "523dcf27-e6be-41b3-99ae-99504708ceaf",
     "showTitle": true,
     "tableResultSettingsMap": {},
     "title": "Exemplo tabela fato na camada golden"
    }
   },
   "outputs": [
    {
     "output_type": "display_data",
     "data": {
      "text/html": [
       "<style scoped>\n",
       "  .table-result-container {\n",
       "    max-height: 300px;\n",
       "    overflow: auto;\n",
       "  }\n",
       "  table, th, td {\n",
       "    border: 1px solid black;\n",
       "    border-collapse: collapse;\n",
       "  }\n",
       "  th, td {\n",
       "    padding: 5px;\n",
       "  }\n",
       "  th {\n",
       "    text-align: left;\n",
       "  }\n",
       "</style><div class='table-result-container'><table class='table-result'><thead style='background-color: white'><tr><th>County</th><th>City</th><th>State</th><th>Model Year</th><th>Make</th><th>Model</th><th>Electric Vehicle Type</th><th>Electric Range</th><th>DOL Vehicle ID</th></tr></thead><tbody><tr><td>Pierce</td><td>Gig Harbor</td><td>WA</td><td>2016</td><td>TESLA</td><td>MODEL X</td><td>Battery Electric Vehicle (BEV)</td><td>200</td><td>106365703</td></tr><tr><td>Chelan</td><td>Chelan</td><td>WA</td><td>2017</td><td>TESLA</td><td>MODEL S</td><td>Battery Electric Vehicle (BEV)</td><td>210</td><td>176383504</td></tr><tr><td>King</td><td>Redmond</td><td>WA</td><td>2021</td><td>FORD</td><td>MUSTANG MACH-E</td><td>Battery Electric Vehicle (BEV)</td><td>0</td><td>186478029</td></tr><tr><td>Snohomish</td><td>Snohomish</td><td>WA</td><td>2015</td><td>NISSAN</td><td>LEAF</td><td>Battery Electric Vehicle (BEV)</td><td>84</td><td>189446995</td></tr><tr><td>Benton</td><td>Richland</td><td>WA</td><td>2019</td><td>HYUNDAI</td><td>IONIQ</td><td>Plug-in Hybrid Electric Vehicle (PHEV)</td><td>29</td><td>221198932</td></tr><tr><td>Snohomish</td><td>Mukilteo</td><td>WA</td><td>2022</td><td>TOYOTA</td><td>PRIUS PRIME</td><td>Plug-in Hybrid Electric Vehicle (PHEV)</td><td>25</td><td>224674299</td></tr><tr><td>Mason</td><td>Belfair</td><td>WA</td><td>2021</td><td>TESLA</td><td>MODEL Y</td><td>Battery Electric Vehicle (BEV)</td><td>0</td><td>176611816</td></tr><tr><td>Spokane</td><td>Greenacres</td><td>WA</td><td>2022</td><td>TESLA</td><td>MODEL 3</td><td>Battery Electric Vehicle (BEV)</td><td>0</td><td>209037321</td></tr><tr><td>King</td><td>Seattle</td><td>WA</td><td>2023</td><td>FORD</td><td>TRANSIT</td><td>Battery Electric Vehicle (BEV)</td><td>0</td><td>227116235</td></tr><tr><td>King</td><td>Auburn</td><td>WA</td><td>2022</td><td>TESLA</td><td>MODEL Y</td><td>Battery Electric Vehicle (BEV)</td><td>0</td><td>205524847</td></tr><tr><td>King</td><td>Maple Valley</td><td>WA</td><td>2021</td><td>TESLA</td><td>MODEL 3</td><td>Battery Electric Vehicle (BEV)</td><td>0</td><td>156600825</td></tr><tr><td>King</td><td>Seattle</td><td>WA</td><td>2022</td><td>RIVIAN</td><td>R1T</td><td>Battery Electric Vehicle (BEV)</td><td>0</td><td>221567888</td></tr><tr><td>King</td><td>Bellevue</td><td>WA</td><td>2023</td><td>TESLA</td><td>MODEL Y</td><td>Battery Electric Vehicle (BEV)</td><td>0</td><td>233905416</td></tr><tr><td>Clark</td><td>Ridgefield</td><td>WA</td><td>2022</td><td>FORD</td><td>MUSTANG MACH-E</td><td>Battery Electric Vehicle (BEV)</td><td>0</td><td>220269346</td></tr><tr><td>Snohomish</td><td>Edmonds</td><td>WA</td><td>2015</td><td>NISSAN</td><td>LEAF</td><td>Battery Electric Vehicle (BEV)</td><td>84</td><td>206725963</td></tr><tr><td>Snohomish</td><td>Mill Creek</td><td>WA</td><td>2022</td><td>TESLA</td><td>MODEL Y</td><td>Battery Electric Vehicle (BEV)</td><td>0</td><td>207468453</td></tr><tr><td>Snohomish</td><td>Brier</td><td>WA</td><td>2023</td><td>RIVIAN</td><td>R1T</td><td>Battery Electric Vehicle (BEV)</td><td>0</td><td>238243757</td></tr><tr><td>Kittitas</td><td>Snoqualmie Pass</td><td>WA</td><td>2015</td><td>TESLA</td><td>MODEL S</td><td>Battery Electric Vehicle (BEV)</td><td>208</td><td>146005226</td></tr><tr><td>King</td><td>Carnation</td><td>WA</td><td>2014</td><td>FORD</td><td>FOCUS</td><td>Battery Electric Vehicle (BEV)</td><td>76</td><td>156189022</td></tr><tr><td>Pierce</td><td>Lakewood</td><td>WA</td><td>2018</td><td>TESLA</td><td>MODEL 3</td><td>Battery Electric Vehicle (BEV)</td><td>215</td><td>210441647</td></tr><tr><td>Thurston</td><td>Olympia</td><td>WA</td><td>2017</td><td>CHEVROLET</td><td>VOLT</td><td>Plug-in Hybrid Electric Vehicle (PHEV)</td><td>53</td><td>9319145</td></tr><tr><td>San Juan</td><td>Eastsound</td><td>WA</td><td>2023</td><td>MERCEDES-BENZ</td><td>EQB-CLASS</td><td>Battery Electric Vehicle (BEV)</td><td>0</td><td>235321474</td></tr><tr><td>Snohomish</td><td>Everett</td><td>WA</td><td>2020</td><td>TESLA</td><td>MODEL Y</td><td>Battery Electric Vehicle (BEV)</td><td>291</td><td>110880052</td></tr><tr><td>Pierce</td><td>Sumner</td><td>WA</td><td>2022</td><td>RIVIAN</td><td>EDV</td><td>Battery Electric Vehicle (BEV)</td><td>0</td><td>227420609</td></tr><tr><td>Whatcom</td><td>Bellingham</td><td>WA</td><td>2016</td><td>FORD</td><td>C-MAX</td><td>Plug-in Hybrid Electric Vehicle (PHEV)</td><td>19</td><td>209891013</td></tr><tr><td>Snohomish</td><td>Bothell</td><td>WA</td><td>2016</td><td>CHEVROLET</td><td>VOLT</td><td>Plug-in Hybrid Electric Vehicle (PHEV)</td><td>53</td><td>149011817</td></tr><tr><td>King</td><td>Redmond</td><td>WA</td><td>2023</td><td>TESLA</td><td>MODEL Y</td><td>Battery Electric Vehicle (BEV)</td><td>0</td><td>240423046</td></tr><tr><td>Pierce</td><td>Spanaway</td><td>WA</td><td>2016</td><td>VOLKSWAGEN</td><td>E-GOLF</td><td>Battery Electric Vehicle (BEV)</td><td>83</td><td>237875970</td></tr><tr><td>Mason</td><td>Shelton</td><td>WA</td><td>2017</td><td>TESLA</td><td>MODEL S</td><td>Battery Electric Vehicle (BEV)</td><td>210</td><td>105220545</td></tr><tr><td>Snohomish</td><td>Edmonds</td><td>WA</td><td>2020</td><td>TESLA</td><td>MODEL Y</td><td>Battery Electric Vehicle (BEV)</td><td>291</td><td>115442631</td></tr><tr><td>Snohomish</td><td>Marysville</td><td>WA</td><td>2017</td><td>CHEVROLET</td><td>VOLT</td><td>Plug-in Hybrid Electric Vehicle (PHEV)</td><td>53</td><td>116242507</td></tr><tr><td>King</td><td>Redmond</td><td>WA</td><td>2018</td><td>TESLA</td><td>MODEL S</td><td>Battery Electric Vehicle (BEV)</td><td>249</td><td>205529208</td></tr><tr><td>Pierce</td><td>Gig Harbor</td><td>WA</td><td>2017</td><td>TOYOTA</td><td>PRIUS PRIME</td><td>Plug-in Hybrid Electric Vehicle (PHEV)</td><td>25</td><td>103678669</td></tr><tr><td>Spokane</td><td>Nine Mile Falls</td><td>WA</td><td>2016</td><td>NISSAN</td><td>LEAF</td><td>Battery Electric Vehicle (BEV)</td><td>84</td><td>223928673</td></tr><tr><td>Whatcom</td><td>Bellingham</td><td>WA</td><td>2012</td><td>TOYOTA</td><td>PRIUS PLUG-IN</td><td>Plug-in Hybrid Electric Vehicle (PHEV)</td><td>6</td><td>268259827</td></tr><tr><td>Skagit</td><td>Sedro-Woolley</td><td>WA</td><td>2015</td><td>TESLA</td><td>MODEL S</td><td>Battery Electric Vehicle (BEV)</td><td>208</td><td>109771420</td></tr><tr><td>Whitman</td><td>Pullman</td><td>WA</td><td>2023</td><td>TESLA</td><td>MODEL Y</td><td>Battery Electric Vehicle (BEV)</td><td>0</td><td>241514416</td></tr><tr><td>Snohomish</td><td>Lynnwood</td><td>WA</td><td>2022</td><td>FORD</td><td>MUSTANG MACH-E</td><td>Battery Electric Vehicle (BEV)</td><td>0</td><td>213506394</td></tr><tr><td>Spokane</td><td>Spokane</td><td>WA</td><td>2018</td><td>TESLA</td><td>MODEL 3</td><td>Battery Electric Vehicle (BEV)</td><td>215</td><td>474334073</td></tr><tr><td>Snohomish</td><td>Snohomish</td><td>WA</td><td>2020</td><td>TESLA</td><td>MODEL X</td><td>Battery Electric Vehicle (BEV)</td><td>293</td><td>107171704</td></tr><tr><td>Whitman</td><td>Pullman</td><td>WA</td><td>2012</td><td>NISSAN</td><td>LEAF</td><td>Battery Electric Vehicle (BEV)</td><td>73</td><td>154824582</td></tr><tr><td>King</td><td>Kirkland</td><td>WA</td><td>2021</td><td>TESLA</td><td>MODEL 3</td><td>Battery Electric Vehicle (BEV)</td><td>0</td><td>156762119</td></tr><tr><td>Island</td><td>Freeland</td><td>WA</td><td>2011</td><td>NISSAN</td><td>LEAF</td><td>Battery Electric Vehicle (BEV)</td><td>73</td><td>245017160</td></tr><tr><td>King</td><td>Maple Valley</td><td>WA</td><td>2023</td><td>TESLA</td><td>MODEL 3</td><td>Battery Electric Vehicle (BEV)</td><td>0</td><td>252978841</td></tr><tr><td>King</td><td>Bellevue</td><td>WA</td><td>2014</td><td>FORD</td><td>FOCUS</td><td>Battery Electric Vehicle (BEV)</td><td>76</td><td>150916188</td></tr><tr><td>Snohomish</td><td>Everett</td><td>WA</td><td>2023</td><td>TESLA</td><td>MODEL Y</td><td>Battery Electric Vehicle (BEV)</td><td>0</td><td>252407074</td></tr><tr><td>King</td><td>Redmond</td><td>WA</td><td>2023</td><td>VOLVO</td><td>XC90</td><td>Plug-in Hybrid Electric Vehicle (PHEV)</td><td>32</td><td>239006764</td></tr><tr><td>Pierce</td><td>Gig Harbor</td><td>WA</td><td>2021</td><td>TOYOTA</td><td>RAV4 PRIME</td><td>Plug-in Hybrid Electric Vehicle (PHEV)</td><td>42</td><td>195170419</td></tr><tr><td>King</td><td>Seattle</td><td>WA</td><td>2020</td><td>TOYOTA</td><td>PRIUS PRIME</td><td>Plug-in Hybrid Electric Vehicle (PHEV)</td><td>25</td><td>229813034</td></tr><tr><td>Snohomish</td><td>Stanwood</td><td>WA</td><td>2022</td><td>CHEVROLET</td><td>BOLT EV</td><td>Battery Electric Vehicle (BEV)</td><td>0</td><td>213697830</td></tr></tbody></table></div>"
      ]
     },
     "metadata": {
      "application/vnd.databricks.v1+output": {
       "addedWidgets": {},
       "aggData": [],
       "aggError": "",
       "aggOverflow": false,
       "aggSchema": [],
       "aggSeriesLimitReached": false,
       "aggType": "",
       "arguments": {},
       "columnCustomDisplayInfos": {},
       "data": [
        [
         "Pierce",
         "Gig Harbor",
         "WA",
         2016,
         "TESLA",
         "MODEL X",
         "Battery Electric Vehicle (BEV)",
         200,
         106365703
        ],
        [
         "Chelan",
         "Chelan",
         "WA",
         2017,
         "TESLA",
         "MODEL S",
         "Battery Electric Vehicle (BEV)",
         210,
         176383504
        ],
        [
         "King",
         "Redmond",
         "WA",
         2021,
         "FORD",
         "MUSTANG MACH-E",
         "Battery Electric Vehicle (BEV)",
         0,
         186478029
        ],
        [
         "Snohomish",
         "Snohomish",
         "WA",
         2015,
         "NISSAN",
         "LEAF",
         "Battery Electric Vehicle (BEV)",
         84,
         189446995
        ],
        [
         "Benton",
         "Richland",
         "WA",
         2019,
         "HYUNDAI",
         "IONIQ",
         "Plug-in Hybrid Electric Vehicle (PHEV)",
         29,
         221198932
        ],
        [
         "Snohomish",
         "Mukilteo",
         "WA",
         2022,
         "TOYOTA",
         "PRIUS PRIME",
         "Plug-in Hybrid Electric Vehicle (PHEV)",
         25,
         224674299
        ],
        [
         "Mason",
         "Belfair",
         "WA",
         2021,
         "TESLA",
         "MODEL Y",
         "Battery Electric Vehicle (BEV)",
         0,
         176611816
        ],
        [
         "Spokane",
         "Greenacres",
         "WA",
         2022,
         "TESLA",
         "MODEL 3",
         "Battery Electric Vehicle (BEV)",
         0,
         209037321
        ],
        [
         "King",
         "Seattle",
         "WA",
         2023,
         "FORD",
         "TRANSIT",
         "Battery Electric Vehicle (BEV)",
         0,
         227116235
        ],
        [
         "King",
         "Auburn",
         "WA",
         2022,
         "TESLA",
         "MODEL Y",
         "Battery Electric Vehicle (BEV)",
         0,
         205524847
        ],
        [
         "King",
         "Maple Valley",
         "WA",
         2021,
         "TESLA",
         "MODEL 3",
         "Battery Electric Vehicle (BEV)",
         0,
         156600825
        ],
        [
         "King",
         "Seattle",
         "WA",
         2022,
         "RIVIAN",
         "R1T",
         "Battery Electric Vehicle (BEV)",
         0,
         221567888
        ],
        [
         "King",
         "Bellevue",
         "WA",
         2023,
         "TESLA",
         "MODEL Y",
         "Battery Electric Vehicle (BEV)",
         0,
         233905416
        ],
        [
         "Clark",
         "Ridgefield",
         "WA",
         2022,
         "FORD",
         "MUSTANG MACH-E",
         "Battery Electric Vehicle (BEV)",
         0,
         220269346
        ],
        [
         "Snohomish",
         "Edmonds",
         "WA",
         2015,
         "NISSAN",
         "LEAF",
         "Battery Electric Vehicle (BEV)",
         84,
         206725963
        ],
        [
         "Snohomish",
         "Mill Creek",
         "WA",
         2022,
         "TESLA",
         "MODEL Y",
         "Battery Electric Vehicle (BEV)",
         0,
         207468453
        ],
        [
         "Snohomish",
         "Brier",
         "WA",
         2023,
         "RIVIAN",
         "R1T",
         "Battery Electric Vehicle (BEV)",
         0,
         238243757
        ],
        [
         "Kittitas",
         "Snoqualmie Pass",
         "WA",
         2015,
         "TESLA",
         "MODEL S",
         "Battery Electric Vehicle (BEV)",
         208,
         146005226
        ],
        [
         "King",
         "Carnation",
         "WA",
         2014,
         "FORD",
         "FOCUS",
         "Battery Electric Vehicle (BEV)",
         76,
         156189022
        ],
        [
         "Pierce",
         "Lakewood",
         "WA",
         2018,
         "TESLA",
         "MODEL 3",
         "Battery Electric Vehicle (BEV)",
         215,
         210441647
        ],
        [
         "Thurston",
         "Olympia",
         "WA",
         2017,
         "CHEVROLET",
         "VOLT",
         "Plug-in Hybrid Electric Vehicle (PHEV)",
         53,
         9319145
        ],
        [
         "San Juan",
         "Eastsound",
         "WA",
         2023,
         "MERCEDES-BENZ",
         "EQB-CLASS",
         "Battery Electric Vehicle (BEV)",
         0,
         235321474
        ],
        [
         "Snohomish",
         "Everett",
         "WA",
         2020,
         "TESLA",
         "MODEL Y",
         "Battery Electric Vehicle (BEV)",
         291,
         110880052
        ],
        [
         "Pierce",
         "Sumner",
         "WA",
         2022,
         "RIVIAN",
         "EDV",
         "Battery Electric Vehicle (BEV)",
         0,
         227420609
        ],
        [
         "Whatcom",
         "Bellingham",
         "WA",
         2016,
         "FORD",
         "C-MAX",
         "Plug-in Hybrid Electric Vehicle (PHEV)",
         19,
         209891013
        ],
        [
         "Snohomish",
         "Bothell",
         "WA",
         2016,
         "CHEVROLET",
         "VOLT",
         "Plug-in Hybrid Electric Vehicle (PHEV)",
         53,
         149011817
        ],
        [
         "King",
         "Redmond",
         "WA",
         2023,
         "TESLA",
         "MODEL Y",
         "Battery Electric Vehicle (BEV)",
         0,
         240423046
        ],
        [
         "Pierce",
         "Spanaway",
         "WA",
         2016,
         "VOLKSWAGEN",
         "E-GOLF",
         "Battery Electric Vehicle (BEV)",
         83,
         237875970
        ],
        [
         "Mason",
         "Shelton",
         "WA",
         2017,
         "TESLA",
         "MODEL S",
         "Battery Electric Vehicle (BEV)",
         210,
         105220545
        ],
        [
         "Snohomish",
         "Edmonds",
         "WA",
         2020,
         "TESLA",
         "MODEL Y",
         "Battery Electric Vehicle (BEV)",
         291,
         115442631
        ],
        [
         "Snohomish",
         "Marysville",
         "WA",
         2017,
         "CHEVROLET",
         "VOLT",
         "Plug-in Hybrid Electric Vehicle (PHEV)",
         53,
         116242507
        ],
        [
         "King",
         "Redmond",
         "WA",
         2018,
         "TESLA",
         "MODEL S",
         "Battery Electric Vehicle (BEV)",
         249,
         205529208
        ],
        [
         "Pierce",
         "Gig Harbor",
         "WA",
         2017,
         "TOYOTA",
         "PRIUS PRIME",
         "Plug-in Hybrid Electric Vehicle (PHEV)",
         25,
         103678669
        ],
        [
         "Spokane",
         "Nine Mile Falls",
         "WA",
         2016,
         "NISSAN",
         "LEAF",
         "Battery Electric Vehicle (BEV)",
         84,
         223928673
        ],
        [
         "Whatcom",
         "Bellingham",
         "WA",
         2012,
         "TOYOTA",
         "PRIUS PLUG-IN",
         "Plug-in Hybrid Electric Vehicle (PHEV)",
         6,
         268259827
        ],
        [
         "Skagit",
         "Sedro-Woolley",
         "WA",
         2015,
         "TESLA",
         "MODEL S",
         "Battery Electric Vehicle (BEV)",
         208,
         109771420
        ],
        [
         "Whitman",
         "Pullman",
         "WA",
         2023,
         "TESLA",
         "MODEL Y",
         "Battery Electric Vehicle (BEV)",
         0,
         241514416
        ],
        [
         "Snohomish",
         "Lynnwood",
         "WA",
         2022,
         "FORD",
         "MUSTANG MACH-E",
         "Battery Electric Vehicle (BEV)",
         0,
         213506394
        ],
        [
         "Spokane",
         "Spokane",
         "WA",
         2018,
         "TESLA",
         "MODEL 3",
         "Battery Electric Vehicle (BEV)",
         215,
         474334073
        ],
        [
         "Snohomish",
         "Snohomish",
         "WA",
         2020,
         "TESLA",
         "MODEL X",
         "Battery Electric Vehicle (BEV)",
         293,
         107171704
        ],
        [
         "Whitman",
         "Pullman",
         "WA",
         2012,
         "NISSAN",
         "LEAF",
         "Battery Electric Vehicle (BEV)",
         73,
         154824582
        ],
        [
         "King",
         "Kirkland",
         "WA",
         2021,
         "TESLA",
         "MODEL 3",
         "Battery Electric Vehicle (BEV)",
         0,
         156762119
        ],
        [
         "Island",
         "Freeland",
         "WA",
         2011,
         "NISSAN",
         "LEAF",
         "Battery Electric Vehicle (BEV)",
         73,
         245017160
        ],
        [
         "King",
         "Maple Valley",
         "WA",
         2023,
         "TESLA",
         "MODEL 3",
         "Battery Electric Vehicle (BEV)",
         0,
         252978841
        ],
        [
         "King",
         "Bellevue",
         "WA",
         2014,
         "FORD",
         "FOCUS",
         "Battery Electric Vehicle (BEV)",
         76,
         150916188
        ],
        [
         "Snohomish",
         "Everett",
         "WA",
         2023,
         "TESLA",
         "MODEL Y",
         "Battery Electric Vehicle (BEV)",
         0,
         252407074
        ],
        [
         "King",
         "Redmond",
         "WA",
         2023,
         "VOLVO",
         "XC90",
         "Plug-in Hybrid Electric Vehicle (PHEV)",
         32,
         239006764
        ],
        [
         "Pierce",
         "Gig Harbor",
         "WA",
         2021,
         "TOYOTA",
         "RAV4 PRIME",
         "Plug-in Hybrid Electric Vehicle (PHEV)",
         42,
         195170419
        ],
        [
         "King",
         "Seattle",
         "WA",
         2020,
         "TOYOTA",
         "PRIUS PRIME",
         "Plug-in Hybrid Electric Vehicle (PHEV)",
         25,
         229813034
        ],
        [
         "Snohomish",
         "Stanwood",
         "WA",
         2022,
         "CHEVROLET",
         "BOLT EV",
         "Battery Electric Vehicle (BEV)",
         0,
         213697830
        ]
       ],
       "datasetInfos": [],
       "dbfsResultPath": null,
       "isJsonSchema": true,
       "metadata": {},
       "overflow": false,
       "plotOptions": {
        "customPlotOptions": {},
        "displayType": "table",
        "pivotAggregation": null,
        "pivotColumns": null,
        "xColumns": null,
        "yColumns": null
       },
       "removedWidgets": [],
       "schema": [
        {
         "metadata": "{}",
         "name": "County",
         "type": "\"string\""
        },
        {
         "metadata": "{}",
         "name": "City",
         "type": "\"string\""
        },
        {
         "metadata": "{}",
         "name": "State",
         "type": "\"string\""
        },
        {
         "metadata": "{}",
         "name": "Model Year",
         "type": "\"integer\""
        },
        {
         "metadata": "{}",
         "name": "Make",
         "type": "\"string\""
        },
        {
         "metadata": "{}",
         "name": "Model",
         "type": "\"string\""
        },
        {
         "metadata": "{}",
         "name": "Electric Vehicle Type",
         "type": "\"string\""
        },
        {
         "metadata": "{}",
         "name": "Electric Range",
         "type": "\"integer\""
        },
        {
         "metadata": "{}",
         "name": "DOL Vehicle ID",
         "type": "\"integer\""
        }
       ],
       "type": "table"
      }
     },
     "output_type": "display_data"
    }
   ],
   "source": [
    "%sql \n",
    "SELECT * FROM golden.eletricvehicle LIMIT 50"
   ]
  },
  {
   "cell_type": "markdown",
   "metadata": {
    "application/vnd.databricks.v1+cell": {
     "cellMetadata": {},
     "inputWidgets": {},
     "nuid": "b7529490-67f5-49de-bcfa-20e94a11c94c",
     "showTitle": false,
     "tableResultSettingsMap": {},
     "title": ""
    }
   },
   "source": [
    "Após todas as analises e tratamentos podemos verificar que conseguimos responder todas as perguntas listadas anteriormente:\n",
    "\n",
    "Identificar e listar os principais modelos de veículos elétricos no mercado dos Estados Unidos.\n",
    "\n",
    "Podemos verificar que os modelos de eletricos da tesla e da nissan tem maior quantidade \n",
    "\n",
    "Organizar dados sobre especificações técnicas como autonomia\n",
    "\n",
    "Na tabela de autonomia podemos ver a média dos hibridos e elétricos\n",
    "\n",
    "Analizar o crescimento dos hibidos e elétricos\n",
    "\n",
    "Podemos verificar que o aumento de hibridos e eletricos esta sendo gradual a cada ano, e podemos prever que nos proximos anos o crescimento será ainda maior. \n",
    "\n",
    "Autoavaliação:\n",
    "\n",
    "Poderia ter criado mais perguntas mais especificas para uma possibilidade de gerar mais informações uteis."
   ]
  }
 ],
 "metadata": {
  "application/vnd.databricks.v1+notebook": {
   "computePreferences": null,
   "dashboards": [
    {
     "elements": [
      {
       "dashboardResultIndex": 0,
       "elementNUID": "2de21cfc-8f3f-414e-9a3c-944e04657fc1",
       "elementType": "command",
       "guid": "24acd4db-8af9-4a92-b4d8-e13a88c774e9",
       "options": null,
       "position": {
        "height": 6,
        "width": 12,
        "x": 0,
        "y": 0,
        "z": null
       },
       "resultIndex": null
      },
      {
       "dashboardResultIndex": 0,
       "elementNUID": "e6e1182c-9916-47fe-bb08-bf85b5d14830",
       "elementType": "command",
       "guid": "c0793cc6-15e3-48bd-9889-896c2952bccd",
       "options": {
        "autoScaleImg": false,
        "scale": 0,
        "showTitle": true,
        "title": "Tabela fato",
        "titleAlign": "center"
       },
       "position": {
        "height": 6,
        "width": 10,
        "x": 6,
        "y": 6,
        "z": null
       },
       "resultIndex": null
      }
     ],
     "globalVars": {},
     "guid": "",
     "layoutOption": {
      "grid": true,
      "stack": false
     },
     "nuid": "30ea04e8-515b-4aed-8732-2fe251ecde3d",
     "origId": 1514491110362219,
     "title": "MVP",
     "version": "DashboardViewV1",
     "width": 1024
    },
    {
     "elements": [
      {
       "dashboardResultIndex": 0,
       "elementNUID": "4ff36b2a-692b-4a8e-9094-ef03e404042a",
       "elementType": "command",
       "guid": "0faed7d5-a1fc-4982-969a-ecb65edf9d09",
       "options": {
        "autoScaleImg": false,
        "scale": 0,
        "showTitle": true,
        "title": "Golden.EletricxMarca",
        "titleAlign": "center"
       },
       "position": {
        "height": 2,
        "width": 8,
        "x": 0,
        "y": 4,
        "z": null
       },
       "resultIndex": null
      },
      {
       "dashboardResultIndex": 0,
       "elementNUID": "e6e1182c-9916-47fe-bb08-bf85b5d14830",
       "elementType": "command",
       "guid": "19cbb1ea-72a9-4783-a7d2-68e9c68d2dc4",
       "options": {
        "autoScaleImg": false,
        "scale": 0,
        "showTitle": true,
        "title": "Golden.Eletricvehicle",
        "titleAlign": "center"
       },
       "position": {
        "height": 5,
        "width": 10,
        "x": 8,
        "y": 8,
        "z": null
       },
       "resultIndex": null
      },
      {
       "dashboardResultIndex": 0,
       "elementNUID": "6ed6776c-6418-41f2-b581-965b2fb18e65",
       "elementType": "command",
       "guid": "9c9bc066-5b83-4e31-ace9-c09b3cbda45b",
       "options": null,
       "position": {
        "height": 6,
        "width": 12,
        "x": 0,
        "y": 21,
        "z": null
       },
       "resultIndex": null
      },
      {
       "dashboardResultIndex": 0,
       "elementNUID": "a9fa2897-3d98-4501-8780-6166c39e91df",
       "elementType": "command",
       "guid": "a0fea937-3e92-47ab-8f7a-c189fd3ed331",
       "options": null,
       "position": {
        "height": 6,
        "width": 12,
        "x": 0,
        "y": 27,
        "z": null
       },
       "resultIndex": null
      },
      {
       "dashboardResultIndex": 0,
       "elementNUID": "2de21cfc-8f3f-414e-9a3c-944e04657fc1",
       "elementType": "command",
       "guid": "b4dd18da-fcb6-436a-8ab6-0cee2b873cc1",
       "options": null,
       "position": {
        "height": 6,
        "width": 12,
        "x": 0,
        "y": 33,
        "z": null
       },
       "resultIndex": null
      },
      {
       "dashboardResultIndex": 0,
       "elementNUID": "0d64c1dd-4ce4-421e-8e90-2c22406acd3f",
       "elementType": "command",
       "guid": "d4b9502b-9a21-4b7c-8b0e-f5fff4331712",
       "options": null,
       "position": {
        "height": 6,
        "width": 12,
        "x": 0,
        "y": 39,
        "z": null
       },
       "resultIndex": null
      },
      {
       "dashboardResultIndex": null,
       "elementNUID": "66388f54-21e1-48af-a597-eee6648284a8",
       "elementType": "command",
       "guid": "d9b92a50-bddf-4f7c-90e8-6cba9622a439",
       "options": null,
       "position": {
        "height": 2,
        "width": 12,
        "x": 0,
        "y": 45,
        "z": null
       },
       "resultIndex": null
      },
      {
       "dashboardResultIndex": 0,
       "elementNUID": "75f2031d-2e72-4793-94c0-6e0cc22654b0",
       "elementType": "command",
       "guid": "dde35522-abda-4d74-be14-439d109e8593",
       "options": null,
       "position": {
        "height": 6,
        "width": 12,
        "x": 0,
        "y": 48,
        "z": null
       },
       "resultIndex": null
      }
     ],
     "globalVars": {},
     "guid": "",
     "layoutOption": {
      "grid": true,
      "stack": false
     },
     "nuid": "6884b699-187f-4527-8830-b751944d167d",
     "origId": 1514491110362220,
     "title": "MVP",
     "version": "DashboardViewV1",
     "width": 1024
    }
   ],
   "environmentMetadata": {
    "base_environment": "",
    "environment_version": "1"
   },
   "inputWidgetPreferences": null,
   "language": "python",
   "notebookMetadata": {
    "mostRecentlyExecutedCommandWithImplicitDF": {
     "commandId": 1514491110362223,
     "dataframes": [
      "_sqldf"
     ]
    },
    "pythonIndentUnit": 4
   },
   "notebookName": "MVP Pedro Chimenti",
   "widgets": {}
  }
 },
 "nbformat": 4,
 "nbformat_minor": 0
}
