{
 "cells": [
  {
   "cell_type": "code",
   "execution_count": 0,
   "metadata": {
    "application/vnd.databricks.v1+cell": {
     "cellMetadata": {
      "byteLimit": 2048000,
      "implicitDf": true,
      "rowLimit": 10000
     },
     "inputWidgets": {},
     "nuid": "c9cee28d-6e36-4789-8144-7203f14b5f6a",
     "showTitle": true,
     "tableResultSettingsMap": {},
     "title": "Criando camada bronze"
    }
   },
   "outputs": [
    {
     "output_type": "display_data",
     "data": {
      "text/html": [
       "<style scoped>\n",
       "  .table-result-container {\n",
       "    max-height: 300px;\n",
       "    overflow: auto;\n",
       "  }\n",
       "  table, th, td {\n",
       "    border: 1px solid black;\n",
       "    border-collapse: collapse;\n",
       "  }\n",
       "  th, td {\n",
       "    padding: 5px;\n",
       "  }\n",
       "  th {\n",
       "    text-align: left;\n",
       "  }\n",
       "</style><div class='table-result-container'><table class='table-result'><thead style='background-color: white'><tr></tr></thead><tbody></tbody></table></div>"
      ]
     },
     "metadata": {
      "application/vnd.databricks.v1+output": {
       "addedWidgets": {},
       "aggData": [],
       "aggError": "",
       "aggOverflow": false,
       "aggSchema": [],
       "aggSeriesLimitReached": false,
       "aggType": "",
       "arguments": {},
       "columnCustomDisplayInfos": {},
       "data": [],
       "datasetInfos": [],
       "dbfsResultPath": null,
       "isJsonSchema": true,
       "metadata": {},
       "overflow": false,
       "plotOptions": {
        "customPlotOptions": {},
        "displayType": "table",
        "pivotAggregation": null,
        "pivotColumns": null,
        "xColumns": null,
        "yColumns": null
       },
       "removedWidgets": [],
       "schema": [],
       "type": "table"
      }
     },
     "output_type": "display_data"
    }
   ],
   "source": [
    "%sql\n",
    "create database bronze"
   ]
  },
  {
   "cell_type": "markdown",
   "metadata": {
    "application/vnd.databricks.v1+cell": {
     "cellMetadata": {},
     "inputWidgets": {},
     "nuid": "66388f54-21e1-48af-a597-eee6648284a8",
     "showTitle": false,
     "tableResultSettingsMap": {},
     "title": ""
    }
   },
   "source": [
    "Importei diretamento para a camada bronze do meu computador uma planilha de veiculos eletricos nos estados unidos."
   ]
  },
  {
   "cell_type": "code",
   "execution_count": 0,
   "metadata": {
    "application/vnd.databricks.v1+cell": {
     "cellMetadata": {
      "byteLimit": 2048000,
      "implicitDf": true,
      "rowLimit": 10000
     },
     "inputWidgets": {},
     "nuid": "6ed6776c-6418-41f2-b581-965b2fb18e65",
     "showTitle": true,
     "tableResultSettingsMap": {},
     "title": "Exemplo da tabela na camada bronze"
    }
   },
   "outputs": [
    {
     "output_type": "display_data",
     "data": {
      "text/html": [
       "<style scoped>\n",
       "  .table-result-container {\n",
       "    max-height: 300px;\n",
       "    overflow: auto;\n",
       "  }\n",
       "  table, th, td {\n",
       "    border: 1px solid black;\n",
       "    border-collapse: collapse;\n",
       "  }\n",
       "  th, td {\n",
       "    padding: 5px;\n",
       "  }\n",
       "  th {\n",
       "    text-align: left;\n",
       "  }\n",
       "</style><div class='table-result-container'><table class='table-result'><thead style='background-color: white'><tr><th>VIN </th><th>County</th><th>City</th><th>State</th><th>Postal Code</th><th>Model Year</th><th>Make</th><th>Model</th><th>Electric Vehicle Type</th><th>Clean Alternative Fuel Vehicle Eligibility</th><th>Electric Range</th><th>Base MSRP</th><th>Legislative District</th><th>DOL Vehicle ID</th><th>Vehicle Location</th><th>Electric Utility</th><th>2020 Census Tract</th></tr></thead><tbody><tr><td>KM8K33AGXL</td><td>King</td><td>Seattle</td><td>WA</td><td>98103</td><td>2020</td><td>HYUNDAI</td><td>KONA</td><td>Battery Electric Vehicle (BEV)</td><td>Clean Alternative Fuel Vehicle Eligible</td><td>258</td><td>0</td><td>43</td><td>249675142</td><td>POINT (-122.34301 47.659185)</td><td>CITY OF SEATTLE - (WA)|CITY OF TACOMA - (WA)</td><td>53033004800</td></tr><tr><td>1C4RJYB61N</td><td>King</td><td>Bothell</td><td>WA</td><td>98011</td><td>2022</td><td>JEEP</td><td>GRAND CHEROKEE</td><td>Plug-in Hybrid Electric Vehicle (PHEV)</td><td>Not eligible due to low battery range</td><td>25</td><td>0</td><td>1</td><td>233928502</td><td>POINT (-122.20578 47.762405)</td><td>PUGET SOUND ENERGY INC||CITY OF TACOMA - (WA)</td><td>53033021804</td></tr><tr><td>1C4RJYD61P</td><td>Yakima</td><td>Yakima</td><td>WA</td><td>98908</td><td>2023</td><td>JEEP</td><td>GRAND CHEROKEE</td><td>Plug-in Hybrid Electric Vehicle (PHEV)</td><td>Not eligible due to low battery range</td><td>25</td><td>0</td><td>14</td><td>229675939</td><td>POINT (-120.6027202 46.5965625)</td><td>PACIFICORP</td><td>53077002900</td></tr><tr><td>5YJ3E1EA7J</td><td>King</td><td>Kirkland</td><td>WA</td><td>98034</td><td>2018</td><td>TESLA</td><td>MODEL 3</td><td>Battery Electric Vehicle (BEV)</td><td>Clean Alternative Fuel Vehicle Eligible</td><td>215</td><td>0</td><td>45</td><td>104714466</td><td>POINT (-122.209285 47.71124)</td><td>PUGET SOUND ENERGY INC||CITY OF TACOMA - (WA)</td><td>53033021903</td></tr><tr><td>WBY7Z8C5XJ</td><td>Thurston</td><td>Olympia</td><td>WA</td><td>98501</td><td>2018</td><td>BMW</td><td>I3</td><td>Plug-in Hybrid Electric Vehicle (PHEV)</td><td>Clean Alternative Fuel Vehicle Eligible</td><td>97</td><td>0</td><td>22</td><td>185498386</td><td>POINT (-122.89692 47.043535)</td><td>PUGET SOUND ENERGY INC</td><td>53067010700</td></tr><tr><td>5YJ3E1EAXL</td><td>Snohomish</td><td>Marysville</td><td>WA</td><td>98271</td><td>2020</td><td>TESLA</td><td>MODEL 3</td><td>Battery Electric Vehicle (BEV)</td><td>Clean Alternative Fuel Vehicle Eligible</td><td>266</td><td>0</td><td>38</td><td>124595523</td><td>POINT (-122.1713847 48.10433)</td><td>PUGET SOUND ENERGY INC</td><td>53061940001</td></tr><tr><td>2C4RC1N77H</td><td>King</td><td>Kent</td><td>WA</td><td>98042</td><td>2017</td><td>CHRYSLER</td><td>PACIFICA</td><td>Plug-in Hybrid Electric Vehicle (PHEV)</td><td>Clean Alternative Fuel Vehicle Eligible</td><td>33</td><td>0</td><td>47</td><td>1815593</td><td>POINT (-122.111625 47.36078)</td><td>PUGET SOUND ENERGY INC||CITY OF TACOMA - (WA)</td><td>53033031707</td></tr><tr><td>5YJYGDEE3L</td><td>King</td><td>Woodinville</td><td>WA</td><td>98072</td><td>2020</td><td>TESLA</td><td>MODEL Y</td><td>Battery Electric Vehicle (BEV)</td><td>Clean Alternative Fuel Vehicle Eligible</td><td>291</td><td>0</td><td>45</td><td>124760555</td><td>POINT (-122.151665 47.75855)</td><td>PUGET SOUND ENERGY INC||CITY OF TACOMA - (WA)</td><td>53033021906</td></tr><tr><td>5YJ3E1EA1J</td><td>Island</td><td>Coupeville</td><td>WA</td><td>98239</td><td>2018</td><td>TESLA</td><td>MODEL 3</td><td>Battery Electric Vehicle (BEV)</td><td>Clean Alternative Fuel Vehicle Eligible</td><td>215</td><td>0</td><td>10</td><td>125048003</td><td>POINT (-122.6880708 48.2179983)</td><td>PUGET SOUND ENERGY INC</td><td>53029971000</td></tr><tr><td>7SAYGDEF0P</td><td>King</td><td>Bellevue</td><td>WA</td><td>98004</td><td>2023</td><td>TESLA</td><td>MODEL Y</td><td>Battery Electric Vehicle (BEV)</td><td>Eligibility unknown as battery range has not been researched</td><td>0</td><td>0</td><td>48</td><td>240416207</td><td>POINT (-122.201905 47.61385)</td><td>PUGET SOUND ENERGY INC||CITY OF TACOMA - (WA)</td><td>53033023806</td></tr></tbody></table></div>"
      ]
     },
     "metadata": {
      "application/vnd.databricks.v1+output": {
       "addedWidgets": {},
       "aggData": [],
       "aggError": "",
       "aggOverflow": false,
       "aggSchema": [],
       "aggSeriesLimitReached": false,
       "aggType": "",
       "arguments": {},
       "columnCustomDisplayInfos": {},
       "data": [
        [
         "KM8K33AGXL",
         "King",
         "Seattle",
         "WA",
         98103,
         2020,
         "HYUNDAI",
         "KONA",
         "Battery Electric Vehicle (BEV)",
         "Clean Alternative Fuel Vehicle Eligible",
         258,
         "0",
         "43",
         249675142,
         "POINT (-122.34301 47.659185)",
         "CITY OF SEATTLE - (WA)|CITY OF TACOMA - (WA)",
         "53033004800"
        ],
        [
         "1C4RJYB61N",
         "King",
         "Bothell",
         "WA",
         98011,
         2022,
         "JEEP",
         "GRAND CHEROKEE",
         "Plug-in Hybrid Electric Vehicle (PHEV)",
         "Not eligible due to low battery range",
         25,
         "0",
         "1",
         233928502,
         "POINT (-122.20578 47.762405)",
         "PUGET SOUND ENERGY INC||CITY OF TACOMA - (WA)",
         "53033021804"
        ],
        [
         "1C4RJYD61P",
         "Yakima",
         "Yakima",
         "WA",
         98908,
         2023,
         "JEEP",
         "GRAND CHEROKEE",
         "Plug-in Hybrid Electric Vehicle (PHEV)",
         "Not eligible due to low battery range",
         25,
         "0",
         "14",
         229675939,
         "POINT (-120.6027202 46.5965625)",
         "PACIFICORP",
         "53077002900"
        ],
        [
         "5YJ3E1EA7J",
         "King",
         "Kirkland",
         "WA",
         98034,
         2018,
         "TESLA",
         "MODEL 3",
         "Battery Electric Vehicle (BEV)",
         "Clean Alternative Fuel Vehicle Eligible",
         215,
         "0",
         "45",
         104714466,
         "POINT (-122.209285 47.71124)",
         "PUGET SOUND ENERGY INC||CITY OF TACOMA - (WA)",
         "53033021903"
        ],
        [
         "WBY7Z8C5XJ",
         "Thurston",
         "Olympia",
         "WA",
         98501,
         2018,
         "BMW",
         "I3",
         "Plug-in Hybrid Electric Vehicle (PHEV)",
         "Clean Alternative Fuel Vehicle Eligible",
         97,
         "0",
         "22",
         185498386,
         "POINT (-122.89692 47.043535)",
         "PUGET SOUND ENERGY INC",
         "53067010700"
        ],
        [
         "5YJ3E1EAXL",
         "Snohomish",
         "Marysville",
         "WA",
         98271,
         2020,
         "TESLA",
         "MODEL 3",
         "Battery Electric Vehicle (BEV)",
         "Clean Alternative Fuel Vehicle Eligible",
         266,
         "0",
         "38",
         124595523,
         "POINT (-122.1713847 48.10433)",
         "PUGET SOUND ENERGY INC",
         "53061940001"
        ],
        [
         "2C4RC1N77H",
         "King",
         "Kent",
         "WA",
         98042,
         2017,
         "CHRYSLER",
         "PACIFICA",
         "Plug-in Hybrid Electric Vehicle (PHEV)",
         "Clean Alternative Fuel Vehicle Eligible",
         33,
         "0",
         "47",
         1815593,
         "POINT (-122.111625 47.36078)",
         "PUGET SOUND ENERGY INC||CITY OF TACOMA - (WA)",
         "53033031707"
        ],
        [
         "5YJYGDEE3L",
         "King",
         "Woodinville",
         "WA",
         98072,
         2020,
         "TESLA",
         "MODEL Y",
         "Battery Electric Vehicle (BEV)",
         "Clean Alternative Fuel Vehicle Eligible",
         291,
         "0",
         "45",
         124760555,
         "POINT (-122.151665 47.75855)",
         "PUGET SOUND ENERGY INC||CITY OF TACOMA - (WA)",
         "53033021906"
        ],
        [
         "5YJ3E1EA1J",
         "Island",
         "Coupeville",
         "WA",
         98239,
         2018,
         "TESLA",
         "MODEL 3",
         "Battery Electric Vehicle (BEV)",
         "Clean Alternative Fuel Vehicle Eligible",
         215,
         "0",
         "10",
         125048003,
         "POINT (-122.6880708 48.2179983)",
         "PUGET SOUND ENERGY INC",
         "53029971000"
        ],
        [
         "7SAYGDEF0P",
         "King",
         "Bellevue",
         "WA",
         98004,
         2023,
         "TESLA",
         "MODEL Y",
         "Battery Electric Vehicle (BEV)",
         "Eligibility unknown as battery range has not been researched",
         0,
         "0",
         "48",
         240416207,
         "POINT (-122.201905 47.61385)",
         "PUGET SOUND ENERGY INC||CITY OF TACOMA - (WA)",
         "53033023806"
        ]
       ],
       "datasetInfos": [],
       "dbfsResultPath": null,
       "isJsonSchema": true,
       "metadata": {},
       "overflow": false,
       "plotOptions": {
        "customPlotOptions": {},
        "displayType": "table",
        "pivotAggregation": null,
        "pivotColumns": null,
        "xColumns": null,
        "yColumns": null
       },
       "removedWidgets": [],
       "schema": [
        {
         "metadata": "{}",
         "name": "VIN ",
         "type": "\"string\""
        },
        {
         "metadata": "{}",
         "name": "County",
         "type": "\"string\""
        },
        {
         "metadata": "{}",
         "name": "City",
         "type": "\"string\""
        },
        {
         "metadata": "{}",
         "name": "State",
         "type": "\"string\""
        },
        {
         "metadata": "{}",
         "name": "Postal Code",
         "type": "\"integer\""
        },
        {
         "metadata": "{}",
         "name": "Model Year",
         "type": "\"integer\""
        },
        {
         "metadata": "{}",
         "name": "Make",
         "type": "\"string\""
        },
        {
         "metadata": "{}",
         "name": "Model",
         "type": "\"string\""
        },
        {
         "metadata": "{}",
         "name": "Electric Vehicle Type",
         "type": "\"string\""
        },
        {
         "metadata": "{}",
         "name": "Clean Alternative Fuel Vehicle Eligibility",
         "type": "\"string\""
        },
        {
         "metadata": "{}",
         "name": "Electric Range",
         "type": "\"integer\""
        },
        {
         "metadata": "{}",
         "name": "Base MSRP",
         "type": "\"string\""
        },
        {
         "metadata": "{}",
         "name": "Legislative District",
         "type": "\"string\""
        },
        {
         "metadata": "{}",
         "name": "DOL Vehicle ID",
         "type": "\"integer\""
        },
        {
         "metadata": "{}",
         "name": "Vehicle Location",
         "type": "\"string\""
        },
        {
         "metadata": "{}",
         "name": "Electric Utility",
         "type": "\"string\""
        },
        {
         "metadata": "{}",
         "name": "2020 Census Tract",
         "type": "\"string\""
        }
       ],
       "type": "table"
      }
     },
     "output_type": "display_data"
    }
   ],
   "source": [
    "%sql \n",
    "SELECT * FROM bronze.electric_vehicle_population_data_8_csv LIMIT 10"
   ]
  },
  {
   "cell_type": "code",
   "execution_count": 0,
   "metadata": {
    "application/vnd.databricks.v1+cell": {
     "cellMetadata": {
      "byteLimit": 2048000,
      "implicitDf": true,
      "rowLimit": 10000
     },
     "inputWidgets": {},
     "nuid": "562838f6-2739-4cbf-9c49-acd8ad8f891e",
     "showTitle": true,
     "tableResultSettingsMap": {},
     "title": "Criação da camada silver"
    }
   },
   "outputs": [
    {
     "output_type": "display_data",
     "data": {
      "text/html": [
       "<style scoped>\n",
       "  .table-result-container {\n",
       "    max-height: 300px;\n",
       "    overflow: auto;\n",
       "  }\n",
       "  table, th, td {\n",
       "    border: 1px solid black;\n",
       "    border-collapse: collapse;\n",
       "  }\n",
       "  th, td {\n",
       "    padding: 5px;\n",
       "  }\n",
       "  th {\n",
       "    text-align: left;\n",
       "  }\n",
       "</style><div class='table-result-container'><table class='table-result'><thead style='background-color: white'><tr></tr></thead><tbody></tbody></table></div>"
      ]
     },
     "metadata": {
      "application/vnd.databricks.v1+output": {
       "addedWidgets": {},
       "aggData": [],
       "aggError": "",
       "aggOverflow": false,
       "aggSchema": [],
       "aggSeriesLimitReached": false,
       "aggType": "",
       "arguments": {},
       "columnCustomDisplayInfos": {},
       "data": [],
       "datasetInfos": [],
       "dbfsResultPath": null,
       "isJsonSchema": true,
       "metadata": {},
       "overflow": false,
       "plotOptions": {
        "customPlotOptions": {},
        "displayType": "table",
        "pivotAggregation": null,
        "pivotColumns": null,
        "xColumns": null,
        "yColumns": null
       },
       "removedWidgets": [],
       "schema": [],
       "type": "table"
      }
     },
     "output_type": "display_data"
    }
   ],
   "source": [
    "%sql CREATE DATABASE silver"
   ]
  },
  {
   "cell_type": "code",
   "execution_count": 0,
   "metadata": {
    "application/vnd.databricks.v1+cell": {
     "cellMetadata": {
      "byteLimit": 2048000,
      "implicitDf": true,
      "rowLimit": 10000
     },
     "inputWidgets": {},
     "nuid": "7692bbc3-4b95-499d-978e-2604a8735ffe",
     "showTitle": true,
     "tableResultSettingsMap": {},
     "title": "Ingestao e tratamento da tabela na camada silver"
    }
   },
   "outputs": [
    {
     "output_type": "display_data",
     "data": {
      "text/html": [
       "<style scoped>\n",
       "  .table-result-container {\n",
       "    max-height: 300px;\n",
       "    overflow: auto;\n",
       "  }\n",
       "  table, th, td {\n",
       "    border: 1px solid black;\n",
       "    border-collapse: collapse;\n",
       "  }\n",
       "  th, td {\n",
       "    padding: 5px;\n",
       "  }\n",
       "  th {\n",
       "    text-align: left;\n",
       "  }\n",
       "</style><div class='table-result-container'><table class='table-result'><thead style='background-color: white'><tr></tr></thead><tbody></tbody></table></div>"
      ]
     },
     "metadata": {
      "application/vnd.databricks.v1+output": {
       "addedWidgets": {},
       "aggData": [],
       "aggError": "",
       "aggOverflow": false,
       "aggSchema": [],
       "aggSeriesLimitReached": false,
       "aggType": "",
       "arguments": {},
       "columnCustomDisplayInfos": {},
       "data": [],
       "datasetInfos": [],
       "dbfsResultPath": null,
       "isJsonSchema": true,
       "metadata": {},
       "overflow": false,
       "plotOptions": {
        "customPlotOptions": {},
        "displayType": "table",
        "pivotAggregation": null,
        "pivotColumns": null,
        "xColumns": null,
        "yColumns": null
       },
       "removedWidgets": [],
       "schema": [],
       "type": "table"
      }
     },
     "output_type": "display_data"
    }
   ],
   "source": [
    "%sql \n",
    "    create table silver.Eletricvehicle stored as ORC as \n",
    "        (select County, City, State, `Model Year`,Make, Model, `Electric Vehicle Type`, `Electric Range`, `DOL Vehicle ID`  \n",
    "         from bronze.electric_vehicle_population_data_8_csv\n",
    "         Where County is not NULL and City is not NULL);\n",
    "\n"
   ]
  },
  {
   "cell_type": "markdown",
   "metadata": {
    "application/vnd.databricks.v1+cell": {
     "cellMetadata": {},
     "inputWidgets": {},
     "nuid": "a8b27d67-f0f9-43bd-8d2a-8fa38c48fb72",
     "showTitle": false,
     "tableResultSettingsMap": {},
     "title": ""
    }
   },
   "source": [
    "Fiz a transferencia da tabela para a camada Silver e fiz uma limpeza nas colunas Conty, City e Eletric Range"
   ]
  },
  {
   "cell_type": "code",
   "execution_count": 0,
   "metadata": {
    "application/vnd.databricks.v1+cell": {
     "cellMetadata": {
      "byteLimit": 2048000,
      "implicitDf": true,
      "rowLimit": 10000
     },
     "inputWidgets": {},
     "nuid": "e6e1182c-9916-47fe-bb08-bf85b5d14830",
     "showTitle": false,
     "tableResultSettingsMap": {},
     "title": ""
    }
   },
   "outputs": [
    {
     "output_type": "display_data",
     "data": {
      "text/html": [
       "<style scoped>\n",
       "  .table-result-container {\n",
       "    max-height: 300px;\n",
       "    overflow: auto;\n",
       "  }\n",
       "  table, th, td {\n",
       "    border: 1px solid black;\n",
       "    border-collapse: collapse;\n",
       "  }\n",
       "  th, td {\n",
       "    padding: 5px;\n",
       "  }\n",
       "  th {\n",
       "    text-align: left;\n",
       "  }\n",
       "</style><div class='table-result-container'><table class='table-result'><thead style='background-color: white'><tr><th>County</th><th>City</th><th>State</th><th>Model Year</th><th>Make</th><th>Model</th><th>Electric Vehicle Type</th><th>Electric Range</th><th>DOL Vehicle ID</th></tr></thead><tbody><tr><td>Pierce</td><td>Gig Harbor</td><td>WA</td><td>2016</td><td>TESLA</td><td>MODEL X</td><td>Battery Electric Vehicle (BEV)</td><td>200</td><td>106365703</td></tr><tr><td>Chelan</td><td>Chelan</td><td>WA</td><td>2017</td><td>TESLA</td><td>MODEL S</td><td>Battery Electric Vehicle (BEV)</td><td>210</td><td>176383504</td></tr><tr><td>King</td><td>Redmond</td><td>WA</td><td>2021</td><td>FORD</td><td>MUSTANG MACH-E</td><td>Battery Electric Vehicle (BEV)</td><td>0</td><td>186478029</td></tr><tr><td>Snohomish</td><td>Snohomish</td><td>WA</td><td>2015</td><td>NISSAN</td><td>LEAF</td><td>Battery Electric Vehicle (BEV)</td><td>84</td><td>189446995</td></tr><tr><td>Benton</td><td>Richland</td><td>WA</td><td>2019</td><td>HYUNDAI</td><td>IONIQ</td><td>Plug-in Hybrid Electric Vehicle (PHEV)</td><td>29</td><td>221198932</td></tr><tr><td>Snohomish</td><td>Mukilteo</td><td>WA</td><td>2022</td><td>TOYOTA</td><td>PRIUS PRIME</td><td>Plug-in Hybrid Electric Vehicle (PHEV)</td><td>25</td><td>224674299</td></tr><tr><td>Mason</td><td>Belfair</td><td>WA</td><td>2021</td><td>TESLA</td><td>MODEL Y</td><td>Battery Electric Vehicle (BEV)</td><td>0</td><td>176611816</td></tr><tr><td>Spokane</td><td>Greenacres</td><td>WA</td><td>2022</td><td>TESLA</td><td>MODEL 3</td><td>Battery Electric Vehicle (BEV)</td><td>0</td><td>209037321</td></tr><tr><td>King</td><td>Seattle</td><td>WA</td><td>2023</td><td>FORD</td><td>TRANSIT</td><td>Battery Electric Vehicle (BEV)</td><td>0</td><td>227116235</td></tr><tr><td>King</td><td>Auburn</td><td>WA</td><td>2022</td><td>TESLA</td><td>MODEL Y</td><td>Battery Electric Vehicle (BEV)</td><td>0</td><td>205524847</td></tr></tbody></table></div>"
      ]
     },
     "metadata": {
      "application/vnd.databricks.v1+output": {
       "addedWidgets": {},
       "aggData": [],
       "aggError": "",
       "aggOverflow": false,
       "aggSchema": [],
       "aggSeriesLimitReached": false,
       "aggType": "",
       "arguments": {},
       "columnCustomDisplayInfos": {},
       "data": [
        [
         "Pierce",
         "Gig Harbor",
         "WA",
         2016,
         "TESLA",
         "MODEL X",
         "Battery Electric Vehicle (BEV)",
         200,
         106365703
        ],
        [
         "Chelan",
         "Chelan",
         "WA",
         2017,
         "TESLA",
         "MODEL S",
         "Battery Electric Vehicle (BEV)",
         210,
         176383504
        ],
        [
         "King",
         "Redmond",
         "WA",
         2021,
         "FORD",
         "MUSTANG MACH-E",
         "Battery Electric Vehicle (BEV)",
         0,
         186478029
        ],
        [
         "Snohomish",
         "Snohomish",
         "WA",
         2015,
         "NISSAN",
         "LEAF",
         "Battery Electric Vehicle (BEV)",
         84,
         189446995
        ],
        [
         "Benton",
         "Richland",
         "WA",
         2019,
         "HYUNDAI",
         "IONIQ",
         "Plug-in Hybrid Electric Vehicle (PHEV)",
         29,
         221198932
        ],
        [
         "Snohomish",
         "Mukilteo",
         "WA",
         2022,
         "TOYOTA",
         "PRIUS PRIME",
         "Plug-in Hybrid Electric Vehicle (PHEV)",
         25,
         224674299
        ],
        [
         "Mason",
         "Belfair",
         "WA",
         2021,
         "TESLA",
         "MODEL Y",
         "Battery Electric Vehicle (BEV)",
         0,
         176611816
        ],
        [
         "Spokane",
         "Greenacres",
         "WA",
         2022,
         "TESLA",
         "MODEL 3",
         "Battery Electric Vehicle (BEV)",
         0,
         209037321
        ],
        [
         "King",
         "Seattle",
         "WA",
         2023,
         "FORD",
         "TRANSIT",
         "Battery Electric Vehicle (BEV)",
         0,
         227116235
        ],
        [
         "King",
         "Auburn",
         "WA",
         2022,
         "TESLA",
         "MODEL Y",
         "Battery Electric Vehicle (BEV)",
         0,
         205524847
        ]
       ],
       "datasetInfos": [],
       "dbfsResultPath": null,
       "isJsonSchema": true,
       "metadata": {},
       "overflow": false,
       "plotOptions": {
        "customPlotOptions": {},
        "displayType": "table",
        "pivotAggregation": null,
        "pivotColumns": null,
        "xColumns": null,
        "yColumns": null
       },
       "removedWidgets": [],
       "schema": [
        {
         "metadata": "{}",
         "name": "County",
         "type": "\"string\""
        },
        {
         "metadata": "{}",
         "name": "City",
         "type": "\"string\""
        },
        {
         "metadata": "{}",
         "name": "State",
         "type": "\"string\""
        },
        {
         "metadata": "{}",
         "name": "Model Year",
         "type": "\"integer\""
        },
        {
         "metadata": "{}",
         "name": "Make",
         "type": "\"string\""
        },
        {
         "metadata": "{}",
         "name": "Model",
         "type": "\"string\""
        },
        {
         "metadata": "{}",
         "name": "Electric Vehicle Type",
         "type": "\"string\""
        },
        {
         "metadata": "{}",
         "name": "Electric Range",
         "type": "\"integer\""
        },
        {
         "metadata": "{}",
         "name": "DOL Vehicle ID",
         "type": "\"integer\""
        }
       ],
       "type": "table"
      }
     },
     "output_type": "display_data"
    }
   ],
   "source": [
    "%sql \n",
    "SELECT * FROM silver.eletricvehicle LIMIT 10"
   ]
  },
  {
   "cell_type": "code",
   "execution_count": 0,
   "metadata": {
    "application/vnd.databricks.v1+cell": {
     "cellMetadata": {
      "byteLimit": 2048000,
      "implicitDf": true,
      "rowLimit": 10000
     },
     "inputWidgets": {},
     "nuid": "d5890e7f-4025-4a3c-aa4f-21a56b3b01df",
     "showTitle": false,
     "tableResultSettingsMap": {},
     "title": ""
    }
   },
   "outputs": [
    {
     "output_type": "display_data",
     "data": {
      "text/html": [
       "<style scoped>\n",
       "  .table-result-container {\n",
       "    max-height: 300px;\n",
       "    overflow: auto;\n",
       "  }\n",
       "  table, th, td {\n",
       "    border: 1px solid black;\n",
       "    border-collapse: collapse;\n",
       "  }\n",
       "  th, td {\n",
       "    padding: 5px;\n",
       "  }\n",
       "  th {\n",
       "    text-align: left;\n",
       "  }\n",
       "</style><div class='table-result-container'><table class='table-result'><thead style='background-color: white'><tr></tr></thead><tbody></tbody></table></div>"
      ]
     },
     "metadata": {
      "application/vnd.databricks.v1+output": {
       "addedWidgets": {},
       "aggData": [],
       "aggError": "",
       "aggOverflow": false,
       "aggSchema": [],
       "aggSeriesLimitReached": false,
       "aggType": "",
       "arguments": {},
       "columnCustomDisplayInfos": {},
       "data": [],
       "datasetInfos": [],
       "dbfsResultPath": null,
       "isJsonSchema": true,
       "metadata": {},
       "overflow": false,
       "plotOptions": {
        "customPlotOptions": {},
        "displayType": "table",
        "pivotAggregation": null,
        "pivotColumns": null,
        "xColumns": null,
        "yColumns": null
       },
       "removedWidgets": [],
       "schema": [],
       "type": "table"
      }
     },
     "output_type": "display_data"
    }
   ],
   "source": [
    "%sql CREATE DATABASE golden"
   ]
  },
  {
   "cell_type": "code",
   "execution_count": 0,
   "metadata": {
    "application/vnd.databricks.v1+cell": {
     "cellMetadata": {
      "byteLimit": 2048000,
      "implicitDf": true,
      "rowLimit": 10000
     },
     "inputWidgets": {},
     "nuid": "2de21cfc-8f3f-414e-9a3c-944e04657fc1",
     "showTitle": false,
     "tableResultSettingsMap": {},
     "title": ""
    }
   },
   "outputs": [
    {
     "output_type": "display_data",
     "data": {
      "text/html": [
       "<style scoped>\n",
       "  .table-result-container {\n",
       "    max-height: 300px;\n",
       "    overflow: auto;\n",
       "  }\n",
       "  table, th, td {\n",
       "    border: 1px solid black;\n",
       "    border-collapse: collapse;\n",
       "  }\n",
       "  th, td {\n",
       "    padding: 5px;\n",
       "  }\n",
       "  th {\n",
       "    text-align: left;\n",
       "  }\n",
       "</style><div class='table-result-container'><table class='table-result'><thead style='background-color: white'><tr></tr></thead><tbody></tbody></table></div>"
      ]
     },
     "metadata": {
      "application/vnd.databricks.v1+output": {
       "addedWidgets": {},
       "aggData": [],
       "aggError": "",
       "aggOverflow": false,
       "aggSchema": [],
       "aggSeriesLimitReached": false,
       "aggType": "",
       "arguments": {},
       "columnCustomDisplayInfos": {},
       "data": [],
       "datasetInfos": [],
       "dbfsResultPath": null,
       "isJsonSchema": true,
       "metadata": {},
       "overflow": false,
       "plotOptions": {
        "customPlotOptions": {},
        "displayType": "table",
        "pivotAggregation": null,
        "pivotColumns": null,
        "xColumns": null,
        "yColumns": null
       },
       "removedWidgets": [],
       "schema": [],
       "type": "table"
      }
     },
     "output_type": "display_data"
    }
   ],
   "source": [
    "%sql \n",
    "create table golden.eletricmedia stored as ORC as \n",
    "    select `Electric Vehicle Type`, AVG(`Electric Range`) as Mediadedistancia\n",
    "    from silver.eletricvehicle\n",
    "    group by `Electric Vehicle Type`"
   ]
  },
  {
   "cell_type": "code",
   "execution_count": 0,
   "metadata": {
    "application/vnd.databricks.v1+cell": {
     "cellMetadata": {
      "byteLimit": 2048000,
      "implicitDf": true,
      "rowLimit": 10000
     },
     "inputWidgets": {},
     "nuid": "0d64c1dd-4ce4-421e-8e90-2c22406acd3f",
     "showTitle": true,
     "tableResultSettingsMap": {},
     "title": "Quantidade de hibrido e eletrico por estado"
    }
   },
   "outputs": [
    {
     "output_type": "display_data",
     "data": {
      "text/html": [
       "<style scoped>\n",
       "  .table-result-container {\n",
       "    max-height: 300px;\n",
       "    overflow: auto;\n",
       "  }\n",
       "  table, th, td {\n",
       "    border: 1px solid black;\n",
       "    border-collapse: collapse;\n",
       "  }\n",
       "  th, td {\n",
       "    padding: 5px;\n",
       "  }\n",
       "  th {\n",
       "    text-align: left;\n",
       "  }\n",
       "</style><div class='table-result-container'><table class='table-result'><thead style='background-color: white'><tr></tr></thead><tbody></tbody></table></div>"
      ]
     },
     "metadata": {
      "application/vnd.databricks.v1+output": {
       "addedWidgets": {},
       "aggData": [],
       "aggError": "",
       "aggOverflow": false,
       "aggSchema": [],
       "aggSeriesLimitReached": false,
       "aggType": "",
       "arguments": {},
       "columnCustomDisplayInfos": {},
       "data": [],
       "datasetInfos": [],
       "dbfsResultPath": null,
       "isJsonSchema": true,
       "metadata": {},
       "overflow": false,
       "plotOptions": {
        "customPlotOptions": {},
        "displayType": "table",
        "pivotAggregation": null,
        "pivotColumns": null,
        "xColumns": null,
        "yColumns": null
       },
       "removedWidgets": [],
       "schema": [],
       "type": "table"
      }
     },
     "output_type": "display_data"
    }
   ],
   "source": [
    "%sql\n",
    "create table golden.QuantidadeXEstado stored as ORC as \n",
    "  SELECT\n",
    "    `Electric Vehicle Type`,\n",
    "    State,\n",
    "    COUNT(*) AS QuantidadedeVeiculo\n",
    "  FROM silver.eletricvehicle\n",
    "  GROUP BY State,`Electric Vehicle Type`;"
   ]
  },
  {
   "cell_type": "code",
   "execution_count": 0,
   "metadata": {
    "application/vnd.databricks.v1+cell": {
     "cellMetadata": {
      "byteLimit": 2048000,
      "implicitDf": true,
      "rowLimit": 10000
     },
     "inputWidgets": {},
     "nuid": "4ff36b2a-692b-4a8e-9094-ef03e404042a",
     "showTitle": true,
     "tableResultSettingsMap": {},
     "title": "Quantidade de hibrido e eletrico por marca"
    }
   },
   "outputs": [
    {
     "output_type": "display_data",
     "data": {
      "text/html": [
       "<style scoped>\n",
       "  .table-result-container {\n",
       "    max-height: 300px;\n",
       "    overflow: auto;\n",
       "  }\n",
       "  table, th, td {\n",
       "    border: 1px solid black;\n",
       "    border-collapse: collapse;\n",
       "  }\n",
       "  th, td {\n",
       "    padding: 5px;\n",
       "  }\n",
       "  th {\n",
       "    text-align: left;\n",
       "  }\n",
       "</style><div class='table-result-container'><table class='table-result'><thead style='background-color: white'><tr></tr></thead><tbody></tbody></table></div>"
      ]
     },
     "metadata": {
      "application/vnd.databricks.v1+output": {
       "addedWidgets": {},
       "aggData": [],
       "aggError": "",
       "aggOverflow": false,
       "aggSchema": [],
       "aggSeriesLimitReached": false,
       "aggType": "",
       "arguments": {},
       "columnCustomDisplayInfos": {},
       "data": [],
       "datasetInfos": [],
       "dbfsResultPath": null,
       "isJsonSchema": true,
       "metadata": {},
       "overflow": false,
       "plotOptions": {
        "customPlotOptions": {},
        "displayType": "table",
        "pivotAggregation": null,
        "pivotColumns": null,
        "xColumns": null,
        "yColumns": null
       },
       "removedWidgets": [],
       "schema": [],
       "type": "table"
      }
     },
     "output_type": "display_data"
    }
   ],
   "source": [
    "%sql\n",
    "create table golden.TipoXMontadora stored as ORC as \n",
    "  SELECT\n",
    "    `Electric Vehicle Type`,\n",
    "    Make,\n",
    "    COUNT(*) AS QuantidadedeVeiculo\n",
    "    FROM silver.eletricvehicle\n",
    "    GROUP BY Make,`Electric Vehicle Type`;"
   ]
  },
  {
   "cell_type": "code",
   "execution_count": 0,
   "metadata": {
    "application/vnd.databricks.v1+cell": {
     "cellMetadata": {
      "byteLimit": 2048000,
      "implicitDf": true,
      "rowLimit": 10000
     },
     "inputWidgets": {},
     "nuid": "a9fa2897-3d98-4501-8780-6166c39e91df",
     "showTitle": false,
     "tableResultSettingsMap": {},
     "title": ""
    }
   },
   "outputs": [
    {
     "output_type": "display_data",
     "data": {
      "text/html": [
       "<style scoped>\n",
       "  .table-result-container {\n",
       "    max-height: 300px;\n",
       "    overflow: auto;\n",
       "  }\n",
       "  table, th, td {\n",
       "    border: 1px solid black;\n",
       "    border-collapse: collapse;\n",
       "  }\n",
       "  th, td {\n",
       "    padding: 5px;\n",
       "  }\n",
       "  th {\n",
       "    text-align: left;\n",
       "  }\n",
       "</style><div class='table-result-container'><table class='table-result'><thead style='background-color: white'><tr></tr></thead><tbody></tbody></table></div>"
      ]
     },
     "metadata": {
      "application/vnd.databricks.v1+output": {
       "addedWidgets": {},
       "aggData": [],
       "aggError": "",
       "aggOverflow": false,
       "aggSchema": [],
       "aggSeriesLimitReached": false,
       "aggType": "",
       "arguments": {},
       "columnCustomDisplayInfos": {},
       "data": [],
       "datasetInfos": [],
       "dbfsResultPath": null,
       "isJsonSchema": true,
       "metadata": {},
       "overflow": false,
       "plotOptions": {
        "customPlotOptions": {},
        "displayType": "table",
        "pivotAggregation": null,
        "pivotColumns": null,
        "xColumns": null,
        "yColumns": null
       },
       "removedWidgets": [],
       "schema": [],
       "type": "table"
      }
     },
     "output_type": "display_data"
    }
   ],
   "source": [
    "%sql\n",
    "create table golden.QuantidadeXAno stored as ORC as \n",
    "  SELECT\n",
    "    `Model Year`,\n",
    "    COUNT(*) AS QuantidadedeVeiculo\n",
    "  FROM silver.eletricvehicle\n",
    "  GROUP BY `Model Year`;"
   ]
  },
  {
   "cell_type": "code",
   "execution_count": 0,
   "metadata": {
    "application/vnd.databricks.v1+cell": {
     "cellMetadata": {
      "byteLimit": 2048000,
      "implicitDf": true,
      "rowLimit": 10000
     },
     "inputWidgets": {},
     "nuid": "75f2031d-2e72-4793-94c0-6e0cc22654b0",
     "showTitle": false,
     "tableResultSettingsMap": {},
     "title": ""
    }
   },
   "outputs": [
    {
     "output_type": "display_data",
     "data": {
      "text/html": [
       "<style scoped>\n",
       "  .table-result-container {\n",
       "    max-height: 300px;\n",
       "    overflow: auto;\n",
       "  }\n",
       "  table, th, td {\n",
       "    border: 1px solid black;\n",
       "    border-collapse: collapse;\n",
       "  }\n",
       "  th, td {\n",
       "    padding: 5px;\n",
       "  }\n",
       "  th {\n",
       "    text-align: left;\n",
       "  }\n",
       "</style><div class='table-result-container'><table class='table-result'><thead style='background-color: white'><tr></tr></thead><tbody></tbody></table></div>"
      ]
     },
     "metadata": {
      "application/vnd.databricks.v1+output": {
       "addedWidgets": {},
       "aggData": [],
       "aggError": "",
       "aggOverflow": false,
       "aggSchema": [],
       "aggSeriesLimitReached": false,
       "aggType": "",
       "arguments": {},
       "columnCustomDisplayInfos": {},
       "data": [],
       "datasetInfos": [],
       "dbfsResultPath": null,
       "isJsonSchema": true,
       "metadata": {},
       "overflow": false,
       "plotOptions": {
        "customPlotOptions": {},
        "displayType": "table",
        "pivotAggregation": null,
        "pivotColumns": null,
        "xColumns": null,
        "yColumns": null
       },
       "removedWidgets": [],
       "schema": [],
       "type": "table"
      }
     },
     "output_type": "display_data"
    }
   ],
   "source": [
    "%sql\n",
    "create table golden.QuantidadeXMontadora stored as ORC as \n",
    "  SELECT\n",
    "    `Make`,\n",
    "    COUNT(*) AS quantidadedeveiculo\n",
    "  FROM silver.eletricvehicle\n",
    "  GROUP BY `Make`;"
   ]
  },
  {
   "cell_type": "code",
   "execution_count": 0,
   "metadata": {
    "application/vnd.databricks.v1+cell": {
     "cellMetadata": {
      "byteLimit": 2048000,
      "implicitDf": true,
      "rowLimit": 10000
     },
     "inputWidgets": {},
     "nuid": "59c7aa60-cdf0-40b7-adca-015a23b39a2b",
     "showTitle": false,
     "tableResultSettingsMap": {},
     "title": ""
    }
   },
   "outputs": [
    {
     "output_type": "display_data",
     "data": {
      "text/html": [
       "<style scoped>\n",
       "  .table-result-container {\n",
       "    max-height: 300px;\n",
       "    overflow: auto;\n",
       "  }\n",
       "  table, th, td {\n",
       "    border: 1px solid black;\n",
       "    border-collapse: collapse;\n",
       "  }\n",
       "  th, td {\n",
       "    padding: 5px;\n",
       "  }\n",
       "  th {\n",
       "    text-align: left;\n",
       "  }\n",
       "</style><div class='table-result-container'><table class='table-result'><thead style='background-color: white'><tr></tr></thead><tbody></tbody></table></div>"
      ]
     },
     "metadata": {
      "application/vnd.databricks.v1+output": {
       "addedWidgets": {},
       "aggData": [],
       "aggError": "",
       "aggOverflow": false,
       "aggSchema": [],
       "aggSeriesLimitReached": false,
       "aggType": "",
       "arguments": {},
       "columnCustomDisplayInfos": {},
       "data": [],
       "datasetInfos": [],
       "dbfsResultPath": null,
       "isJsonSchema": true,
       "metadata": {},
       "overflow": false,
       "plotOptions": {
        "customPlotOptions": {},
        "displayType": "table",
        "pivotAggregation": null,
        "pivotColumns": null,
        "xColumns": null,
        "yColumns": null
       },
       "removedWidgets": [],
       "schema": [],
       "type": "table"
      }
     },
     "output_type": "display_data"
    }
   ],
   "source": [
    "%sql\n",
    "create table golden.eletricvehicle stored as ORC as \n",
    "  select *\n",
    "  from silver.eletricvehicle\n"
   ]
  },
  {
   "cell_type": "code",
   "execution_count": 0,
   "metadata": {
    "application/vnd.databricks.v1+cell": {
     "cellMetadata": {
      "byteLimit": 2048000,
      "implicitDf": true,
      "rowLimit": 10000
     },
     "inputWidgets": {},
     "nuid": "523dcf27-e6be-41b3-99ae-99504708ceaf",
     "showTitle": true,
     "tableResultSettingsMap": {},
     "title": "Exemplo tabela fato na camada golden"
    }
   },
   "outputs": [
    {
     "output_type": "display_data",
     "data": {
      "text/html": [
       "<style scoped>\n",
       "  .table-result-container {\n",
       "    max-height: 300px;\n",
       "    overflow: auto;\n",
       "  }\n",
       "  table, th, td {\n",
       "    border: 1px solid black;\n",
       "    border-collapse: collapse;\n",
       "  }\n",
       "  th, td {\n",
       "    padding: 5px;\n",
       "  }\n",
       "  th {\n",
       "    text-align: left;\n",
       "  }\n",
       "</style><div class='table-result-container'><table class='table-result'><thead style='background-color: white'><tr><th>County</th><th>City</th><th>State</th><th>Model Year</th><th>Make</th><th>Model</th><th>Electric Vehicle Type</th><th>Electric Range</th><th>DOL Vehicle ID</th></tr></thead><tbody><tr><td>Pierce</td><td>Gig Harbor</td><td>WA</td><td>2016</td><td>TESLA</td><td>MODEL X</td><td>Battery Electric Vehicle (BEV)</td><td>200</td><td>106365703</td></tr><tr><td>Chelan</td><td>Chelan</td><td>WA</td><td>2017</td><td>TESLA</td><td>MODEL S</td><td>Battery Electric Vehicle (BEV)</td><td>210</td><td>176383504</td></tr><tr><td>King</td><td>Redmond</td><td>WA</td><td>2021</td><td>FORD</td><td>MUSTANG MACH-E</td><td>Battery Electric Vehicle (BEV)</td><td>0</td><td>186478029</td></tr><tr><td>Snohomish</td><td>Snohomish</td><td>WA</td><td>2015</td><td>NISSAN</td><td>LEAF</td><td>Battery Electric Vehicle (BEV)</td><td>84</td><td>189446995</td></tr><tr><td>Benton</td><td>Richland</td><td>WA</td><td>2019</td><td>HYUNDAI</td><td>IONIQ</td><td>Plug-in Hybrid Electric Vehicle (PHEV)</td><td>29</td><td>221198932</td></tr><tr><td>Snohomish</td><td>Mukilteo</td><td>WA</td><td>2022</td><td>TOYOTA</td><td>PRIUS PRIME</td><td>Plug-in Hybrid Electric Vehicle (PHEV)</td><td>25</td><td>224674299</td></tr><tr><td>Mason</td><td>Belfair</td><td>WA</td><td>2021</td><td>TESLA</td><td>MODEL Y</td><td>Battery Electric Vehicle (BEV)</td><td>0</td><td>176611816</td></tr><tr><td>Spokane</td><td>Greenacres</td><td>WA</td><td>2022</td><td>TESLA</td><td>MODEL 3</td><td>Battery Electric Vehicle (BEV)</td><td>0</td><td>209037321</td></tr><tr><td>King</td><td>Seattle</td><td>WA</td><td>2023</td><td>FORD</td><td>TRANSIT</td><td>Battery Electric Vehicle (BEV)</td><td>0</td><td>227116235</td></tr><tr><td>King</td><td>Auburn</td><td>WA</td><td>2022</td><td>TESLA</td><td>MODEL Y</td><td>Battery Electric Vehicle (BEV)</td><td>0</td><td>205524847</td></tr></tbody></table></div>"
      ]
     },
     "metadata": {
      "application/vnd.databricks.v1+output": {
       "addedWidgets": {},
       "aggData": [],
       "aggError": "",
       "aggOverflow": false,
       "aggSchema": [],
       "aggSeriesLimitReached": false,
       "aggType": "",
       "arguments": {},
       "columnCustomDisplayInfos": {},
       "data": [
        [
         "Pierce",
         "Gig Harbor",
         "WA",
         2016,
         "TESLA",
         "MODEL X",
         "Battery Electric Vehicle (BEV)",
         200,
         106365703
        ],
        [
         "Chelan",
         "Chelan",
         "WA",
         2017,
         "TESLA",
         "MODEL S",
         "Battery Electric Vehicle (BEV)",
         210,
         176383504
        ],
        [
         "King",
         "Redmond",
         "WA",
         2021,
         "FORD",
         "MUSTANG MACH-E",
         "Battery Electric Vehicle (BEV)",
         0,
         186478029
        ],
        [
         "Snohomish",
         "Snohomish",
         "WA",
         2015,
         "NISSAN",
         "LEAF",
         "Battery Electric Vehicle (BEV)",
         84,
         189446995
        ],
        [
         "Benton",
         "Richland",
         "WA",
         2019,
         "HYUNDAI",
         "IONIQ",
         "Plug-in Hybrid Electric Vehicle (PHEV)",
         29,
         221198932
        ],
        [
         "Snohomish",
         "Mukilteo",
         "WA",
         2022,
         "TOYOTA",
         "PRIUS PRIME",
         "Plug-in Hybrid Electric Vehicle (PHEV)",
         25,
         224674299
        ],
        [
         "Mason",
         "Belfair",
         "WA",
         2021,
         "TESLA",
         "MODEL Y",
         "Battery Electric Vehicle (BEV)",
         0,
         176611816
        ],
        [
         "Spokane",
         "Greenacres",
         "WA",
         2022,
         "TESLA",
         "MODEL 3",
         "Battery Electric Vehicle (BEV)",
         0,
         209037321
        ],
        [
         "King",
         "Seattle",
         "WA",
         2023,
         "FORD",
         "TRANSIT",
         "Battery Electric Vehicle (BEV)",
         0,
         227116235
        ],
        [
         "King",
         "Auburn",
         "WA",
         2022,
         "TESLA",
         "MODEL Y",
         "Battery Electric Vehicle (BEV)",
         0,
         205524847
        ]
       ],
       "datasetInfos": [],
       "dbfsResultPath": null,
       "isJsonSchema": true,
       "metadata": {},
       "overflow": false,
       "plotOptions": {
        "customPlotOptions": {},
        "displayType": "table",
        "pivotAggregation": null,
        "pivotColumns": null,
        "xColumns": null,
        "yColumns": null
       },
       "removedWidgets": [],
       "schema": [
        {
         "metadata": "{}",
         "name": "County",
         "type": "\"string\""
        },
        {
         "metadata": "{}",
         "name": "City",
         "type": "\"string\""
        },
        {
         "metadata": "{}",
         "name": "State",
         "type": "\"string\""
        },
        {
         "metadata": "{}",
         "name": "Model Year",
         "type": "\"integer\""
        },
        {
         "metadata": "{}",
         "name": "Make",
         "type": "\"string\""
        },
        {
         "metadata": "{}",
         "name": "Model",
         "type": "\"string\""
        },
        {
         "metadata": "{}",
         "name": "Electric Vehicle Type",
         "type": "\"string\""
        },
        {
         "metadata": "{}",
         "name": "Electric Range",
         "type": "\"integer\""
        },
        {
         "metadata": "{}",
         "name": "DOL Vehicle ID",
         "type": "\"integer\""
        }
       ],
       "type": "table"
      }
     },
     "output_type": "display_data"
    }
   ],
   "source": [
    "%sql \n",
    "SELECT * FROM golden.eletricvehicle LIMIT 10"
   ]
  },
  {
   "cell_type": "code",
   "execution_count": 0,
   "metadata": {
    "application/vnd.databricks.v1+cell": {
     "cellMetadata": {
      "byteLimit": 2048000,
      "implicitDf": true,
      "rowLimit": 10000
     },
     "inputWidgets": {},
     "nuid": "31478a7d-e685-4656-b9fd-142220d16f18",
     "showTitle": false,
     "tableResultSettingsMap": {},
     "title": ""
    }
   },
   "outputs": [
    {
     "output_type": "display_data",
     "data": {
      "text/html": [
       "<style scoped>\n",
       "  .table-result-container {\n",
       "    max-height: 300px;\n",
       "    overflow: auto;\n",
       "  }\n",
       "  table, th, td {\n",
       "    border: 1px solid black;\n",
       "    border-collapse: collapse;\n",
       "  }\n",
       "  th, td {\n",
       "    padding: 5px;\n",
       "  }\n",
       "  th {\n",
       "    text-align: left;\n",
       "  }\n",
       "</style><div class='table-result-container'><table class='table-result'><thead style='background-color: white'><tr><th>Electric Vehicle Type</th><th>Make</th><th>QuantidadedeVeiculo</th></tr></thead><tbody><tr><td>Battery Electric Vehicle (BEV)</td><td>POLESTAR</td><td>764</td></tr><tr><td>Plug-in Hybrid Electric Vehicle (PHEV)</td><td>CHRYSLER</td><td>2642</td></tr><tr><td>Battery Electric Vehicle (BEV)</td><td>HYUNDAI</td><td>2695</td></tr><tr><td>Plug-in Hybrid Electric Vehicle (PHEV)</td><td>TOYOTA</td><td>5034</td></tr><tr><td>Plug-in Hybrid Electric Vehicle (PHEV)</td><td>ALFA ROMEO</td><td>12</td></tr><tr><td>Plug-in Hybrid Electric Vehicle (PHEV)</td><td>CHEVROLET</td><td>4890</td></tr><tr><td>Battery Electric Vehicle (BEV)</td><td>PORSCHE</td><td>547</td></tr><tr><td>Plug-in Hybrid Electric Vehicle (PHEV)</td><td>FISKER</td><td>17</td></tr><tr><td>Battery Electric Vehicle (BEV)</td><td>TH!NK</td><td>5</td></tr><tr><td>Plug-in Hybrid Electric Vehicle (PHEV)</td><td>JEEP</td><td>3292</td></tr></tbody></table></div>"
      ]
     },
     "metadata": {
      "application/vnd.databricks.v1+output": {
       "addedWidgets": {},
       "aggData": [],
       "aggError": "",
       "aggOverflow": false,
       "aggSchema": [],
       "aggSeriesLimitReached": false,
       "aggType": "",
       "arguments": {},
       "columnCustomDisplayInfos": {},
       "data": [
        [
         "Battery Electric Vehicle (BEV)",
         "POLESTAR",
         764
        ],
        [
         "Plug-in Hybrid Electric Vehicle (PHEV)",
         "CHRYSLER",
         2642
        ],
        [
         "Battery Electric Vehicle (BEV)",
         "HYUNDAI",
         2695
        ],
        [
         "Plug-in Hybrid Electric Vehicle (PHEV)",
         "TOYOTA",
         5034
        ],
        [
         "Plug-in Hybrid Electric Vehicle (PHEV)",
         "ALFA ROMEO",
         12
        ],
        [
         "Plug-in Hybrid Electric Vehicle (PHEV)",
         "CHEVROLET",
         4890
        ],
        [
         "Battery Electric Vehicle (BEV)",
         "PORSCHE",
         547
        ],
        [
         "Plug-in Hybrid Electric Vehicle (PHEV)",
         "FISKER",
         17
        ],
        [
         "Battery Electric Vehicle (BEV)",
         "TH!NK",
         5
        ],
        [
         "Plug-in Hybrid Electric Vehicle (PHEV)",
         "JEEP",
         3292
        ]
       ],
       "datasetInfos": [],
       "dbfsResultPath": null,
       "isJsonSchema": true,
       "metadata": {},
       "overflow": false,
       "plotOptions": {
        "customPlotOptions": {},
        "displayType": "table",
        "pivotAggregation": null,
        "pivotColumns": null,
        "xColumns": null,
        "yColumns": null
       },
       "removedWidgets": [],
       "schema": [
        {
         "metadata": "{}",
         "name": "Electric Vehicle Type",
         "type": "\"string\""
        },
        {
         "metadata": "{}",
         "name": "Make",
         "type": "\"string\""
        },
        {
         "metadata": "{}",
         "name": "QuantidadedeVeiculo",
         "type": "\"long\""
        }
       ],
       "type": "table"
      }
     },
     "output_type": "display_data"
    }
   ],
   "source": [
    "%sql \n",
    "SELECT * \n",
    "  FROM golden.tipoxmontadora LIMIT 10"
   ]
  }
 ],
 "metadata": {
  "application/vnd.databricks.v1+notebook": {
   "computePreferences": null,
   "dashboards": [
    {
     "elements": [
      {
       "dashboardResultIndex": 0,
       "elementNUID": "2de21cfc-8f3f-414e-9a3c-944e04657fc1",
       "elementType": "command",
       "guid": "24acd4db-8af9-4a92-b4d8-e13a88c774e9",
       "options": null,
       "position": {
        "height": 6,
        "width": 12,
        "x": 0,
        "y": 0,
        "z": null
       },
       "resultIndex": null
      },
      {
       "dashboardResultIndex": 0,
       "elementNUID": "e6e1182c-9916-47fe-bb08-bf85b5d14830",
       "elementType": "command",
       "guid": "c0793cc6-15e3-48bd-9889-896c2952bccd",
       "options": {
        "autoScaleImg": false,
        "scale": 0,
        "showTitle": true,
        "title": "Tabela fato",
        "titleAlign": "center"
       },
       "position": {
        "height": 6,
        "width": 10,
        "x": 6,
        "y": 6,
        "z": null
       },
       "resultIndex": null
      }
     ],
     "globalVars": {},
     "guid": "",
     "layoutOption": {
      "grid": true,
      "stack": false
     },
     "nuid": "30ea04e8-515b-4aed-8732-2fe251ecde3d",
     "origId": 1514491110362219,
     "title": "MVP",
     "version": "DashboardViewV1",
     "width": 1024
    },
    {
     "elements": [
      {
       "dashboardResultIndex": 0,
       "elementNUID": "4ff36b2a-692b-4a8e-9094-ef03e404042a",
       "elementType": "command",
       "guid": "0faed7d5-a1fc-4982-969a-ecb65edf9d09",
       "options": {
        "autoScaleImg": false,
        "scale": 0,
        "showTitle": true,
        "title": "Golden.EletricxMarca",
        "titleAlign": "center"
       },
       "position": {
        "height": 2,
        "width": 8,
        "x": 0,
        "y": 4,
        "z": null
       },
       "resultIndex": null
      },
      {
       "dashboardResultIndex": 0,
       "elementNUID": "e6e1182c-9916-47fe-bb08-bf85b5d14830",
       "elementType": "command",
       "guid": "19cbb1ea-72a9-4783-a7d2-68e9c68d2dc4",
       "options": {
        "autoScaleImg": false,
        "scale": 0,
        "showTitle": true,
        "title": "Golden.Eletricvehicle",
        "titleAlign": "center"
       },
       "position": {
        "height": 5,
        "width": 10,
        "x": 8,
        "y": 8,
        "z": null
       },
       "resultIndex": null
      },
      {
       "dashboardResultIndex": 0,
       "elementNUID": "6ed6776c-6418-41f2-b581-965b2fb18e65",
       "elementType": "command",
       "guid": "9c9bc066-5b83-4e31-ace9-c09b3cbda45b",
       "options": null,
       "position": {
        "height": 6,
        "width": 12,
        "x": 0,
        "y": 21,
        "z": null
       },
       "resultIndex": null
      },
      {
       "dashboardResultIndex": 0,
       "elementNUID": "a9fa2897-3d98-4501-8780-6166c39e91df",
       "elementType": "command",
       "guid": "a0fea937-3e92-47ab-8f7a-c189fd3ed331",
       "options": null,
       "position": {
        "height": 6,
        "width": 12,
        "x": 0,
        "y": 27,
        "z": null
       },
       "resultIndex": null
      },
      {
       "dashboardResultIndex": 0,
       "elementNUID": "2de21cfc-8f3f-414e-9a3c-944e04657fc1",
       "elementType": "command",
       "guid": "b4dd18da-fcb6-436a-8ab6-0cee2b873cc1",
       "options": null,
       "position": {
        "height": 6,
        "width": 12,
        "x": 0,
        "y": 33,
        "z": null
       },
       "resultIndex": null
      },
      {
       "dashboardResultIndex": 0,
       "elementNUID": "0d64c1dd-4ce4-421e-8e90-2c22406acd3f",
       "elementType": "command",
       "guid": "d4b9502b-9a21-4b7c-8b0e-f5fff4331712",
       "options": null,
       "position": {
        "height": 6,
        "width": 12,
        "x": 0,
        "y": 39,
        "z": null
       },
       "resultIndex": null
      },
      {
       "dashboardResultIndex": null,
       "elementNUID": "66388f54-21e1-48af-a597-eee6648284a8",
       "elementType": "command",
       "guid": "d9b92a50-bddf-4f7c-90e8-6cba9622a439",
       "options": null,
       "position": {
        "height": 2,
        "width": 12,
        "x": 0,
        "y": 45,
        "z": null
       },
       "resultIndex": null
      },
      {
       "dashboardResultIndex": 0,
       "elementNUID": "75f2031d-2e72-4793-94c0-6e0cc22654b0",
       "elementType": "command",
       "guid": "dde35522-abda-4d74-be14-439d109e8593",
       "options": null,
       "position": {
        "height": 6,
        "width": 12,
        "x": 0,
        "y": 48,
        "z": null
       },
       "resultIndex": null
      }
     ],
     "globalVars": {},
     "guid": "",
     "layoutOption": {
      "grid": true,
      "stack": false
     },
     "nuid": "6884b699-187f-4527-8830-b751944d167d",
     "origId": 1514491110362220,
     "title": "MVP",
     "version": "DashboardViewV1",
     "width": 1024
    }
   ],
   "environmentMetadata": {
    "base_environment": "",
    "environment_version": "1"
   },
   "inputWidgetPreferences": null,
   "language": "python",
   "notebookMetadata": {
    "mostRecentlyExecutedCommandWithImplicitDF": {
     "commandId": 1706897009536197,
     "dataframes": [
      "_sqldf"
     ]
    },
    "pythonIndentUnit": 4
   },
   "notebookName": "MVP Pedro Chimenti",
   "widgets": {}
  }
 },
 "nbformat": 4,
 "nbformat_minor": 0
}